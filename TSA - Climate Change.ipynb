{
 "cells": [
  {
   "cell_type": "markdown",
   "id": "3cb7bb3d",
   "metadata": {},
   "source": [
    "## Climate Change - TSA"
   ]
  },
  {
   "cell_type": "code",
   "execution_count": 1,
   "id": "ec1903e5",
   "metadata": {},
   "outputs": [],
   "source": [
    "import pandas as pd\n",
    "import numpy as np\n",
    "import matplotlib.pyplot as plt\n",
    "import seaborn as sns\n",
    "from statsmodels.tsa.stattools import adfuller\n",
    "from statsmodels.tsa.seasonal import seasonal_decompose\n",
    "from datetime import datetime,timedelta\n",
    "import warnings\n",
    "warnings.filterwarnings('ignore')"
   ]
  },
  {
   "cell_type": "code",
   "execution_count": 2,
   "id": "d204afa3",
   "metadata": {},
   "outputs": [],
   "source": [
    "data = pd.read_csv('./GlobalLandTemperaturesByState.csv',parse_dates=['dt'],index_col = 'dt')"
   ]
  },
  {
   "cell_type": "code",
   "execution_count": 3,
   "id": "d802c4c9",
   "metadata": {},
   "outputs": [
    {
     "data": {
      "text/html": [
       "<div>\n",
       "<style scoped>\n",
       "    .dataframe tbody tr th:only-of-type {\n",
       "        vertical-align: middle;\n",
       "    }\n",
       "\n",
       "    .dataframe tbody tr th {\n",
       "        vertical-align: top;\n",
       "    }\n",
       "\n",
       "    .dataframe thead th {\n",
       "        text-align: right;\n",
       "    }\n",
       "</style>\n",
       "<table border=\"1\" class=\"dataframe\">\n",
       "  <thead>\n",
       "    <tr style=\"text-align: right;\">\n",
       "      <th></th>\n",
       "      <th>AverageTemperature</th>\n",
       "      <th>AverageTemperatureUncertainty</th>\n",
       "      <th>State</th>\n",
       "      <th>Country</th>\n",
       "    </tr>\n",
       "    <tr>\n",
       "      <th>dt</th>\n",
       "      <th></th>\n",
       "      <th></th>\n",
       "      <th></th>\n",
       "      <th></th>\n",
       "    </tr>\n",
       "  </thead>\n",
       "  <tbody>\n",
       "    <tr>\n",
       "      <th>1855-05-01</th>\n",
       "      <td>25.544</td>\n",
       "      <td>1.171</td>\n",
       "      <td>Acre</td>\n",
       "      <td>Brazil</td>\n",
       "    </tr>\n",
       "    <tr>\n",
       "      <th>1855-06-01</th>\n",
       "      <td>24.228</td>\n",
       "      <td>1.103</td>\n",
       "      <td>Acre</td>\n",
       "      <td>Brazil</td>\n",
       "    </tr>\n",
       "    <tr>\n",
       "      <th>1855-07-01</th>\n",
       "      <td>24.371</td>\n",
       "      <td>1.044</td>\n",
       "      <td>Acre</td>\n",
       "      <td>Brazil</td>\n",
       "    </tr>\n",
       "    <tr>\n",
       "      <th>1855-08-01</th>\n",
       "      <td>25.427</td>\n",
       "      <td>1.073</td>\n",
       "      <td>Acre</td>\n",
       "      <td>Brazil</td>\n",
       "    </tr>\n",
       "    <tr>\n",
       "      <th>1855-09-01</th>\n",
       "      <td>25.675</td>\n",
       "      <td>1.014</td>\n",
       "      <td>Acre</td>\n",
       "      <td>Brazil</td>\n",
       "    </tr>\n",
       "  </tbody>\n",
       "</table>\n",
       "</div>"
      ],
      "text/plain": [
       "            AverageTemperature  AverageTemperatureUncertainty State Country\n",
       "dt                                                                         \n",
       "1855-05-01              25.544                          1.171  Acre  Brazil\n",
       "1855-06-01              24.228                          1.103  Acre  Brazil\n",
       "1855-07-01              24.371                          1.044  Acre  Brazil\n",
       "1855-08-01              25.427                          1.073  Acre  Brazil\n",
       "1855-09-01              25.675                          1.014  Acre  Brazil"
      ]
     },
     "execution_count": 3,
     "metadata": {},
     "output_type": "execute_result"
    }
   ],
   "source": [
    "data.head(5)"
   ]
  },
  {
   "cell_type": "code",
   "execution_count": 4,
   "id": "58f65bef",
   "metadata": {},
   "outputs": [
    {
     "name": "stdout",
     "output_type": "stream",
     "text": [
      "<class 'pandas.core.frame.DataFrame'>\n",
      "DatetimeIndex: 645675 entries, 1855-05-01 to 2013-09-01\n",
      "Data columns (total 4 columns):\n",
      " #   Column                         Non-Null Count   Dtype  \n",
      "---  ------                         --------------   -----  \n",
      " 0   AverageTemperature             620027 non-null  float64\n",
      " 1   AverageTemperatureUncertainty  620027 non-null  float64\n",
      " 2   State                          645675 non-null  object \n",
      " 3   Country                        645675 non-null  object \n",
      "dtypes: float64(2), object(2)\n",
      "memory usage: 24.6+ MB\n"
     ]
    }
   ],
   "source": [
    "data.info()"
   ]
  },
  {
   "cell_type": "code",
   "execution_count": 5,
   "id": "4c18a795",
   "metadata": {},
   "outputs": [
    {
     "data": {
      "text/plain": [
       "(645675, 4)"
      ]
     },
     "execution_count": 5,
     "metadata": {},
     "output_type": "execute_result"
    }
   ],
   "source": [
    "data.shape"
   ]
  },
  {
   "cell_type": "code",
   "execution_count": 6,
   "id": "9e7250aa",
   "metadata": {},
   "outputs": [
    {
     "data": {
      "text/plain": [
       "AverageTemperature               3.972277\n",
       "AverageTemperatureUncertainty    3.972277\n",
       "State                            0.000000\n",
       "Country                          0.000000\n",
       "dtype: float64"
      ]
     },
     "execution_count": 6,
     "metadata": {},
     "output_type": "execute_result"
    }
   ],
   "source": [
    "data.isnull().mean()*100"
   ]
  },
  {
   "cell_type": "code",
   "execution_count": 7,
   "id": "85e364cc",
   "metadata": {},
   "outputs": [],
   "source": [
    "data.dropna(inplace=True)"
   ]
  },
  {
   "cell_type": "code",
   "execution_count": 8,
   "id": "95a7bbe5",
   "metadata": {
    "scrolled": true
   },
   "outputs": [
    {
     "data": {
      "text/html": [
       "<div>\n",
       "<style scoped>\n",
       "    .dataframe tbody tr th:only-of-type {\n",
       "        vertical-align: middle;\n",
       "    }\n",
       "\n",
       "    .dataframe tbody tr th {\n",
       "        vertical-align: top;\n",
       "    }\n",
       "\n",
       "    .dataframe thead th {\n",
       "        text-align: right;\n",
       "    }\n",
       "</style>\n",
       "<table border=\"1\" class=\"dataframe\">\n",
       "  <thead>\n",
       "    <tr style=\"text-align: right;\">\n",
       "      <th></th>\n",
       "      <th>AverageTemperature</th>\n",
       "      <th>AverageTemperatureUncertainty</th>\n",
       "    </tr>\n",
       "  </thead>\n",
       "  <tbody>\n",
       "    <tr>\n",
       "      <th>count</th>\n",
       "      <td>620027.000000</td>\n",
       "      <td>620027.000000</td>\n",
       "    </tr>\n",
       "    <tr>\n",
       "      <th>mean</th>\n",
       "      <td>8.993111</td>\n",
       "      <td>1.287647</td>\n",
       "    </tr>\n",
       "    <tr>\n",
       "      <th>std</th>\n",
       "      <td>13.772150</td>\n",
       "      <td>1.360392</td>\n",
       "    </tr>\n",
       "    <tr>\n",
       "      <th>min</th>\n",
       "      <td>-45.389000</td>\n",
       "      <td>0.036000</td>\n",
       "    </tr>\n",
       "    <tr>\n",
       "      <th>25%</th>\n",
       "      <td>-0.693000</td>\n",
       "      <td>0.316000</td>\n",
       "    </tr>\n",
       "    <tr>\n",
       "      <th>50%</th>\n",
       "      <td>11.199000</td>\n",
       "      <td>0.656000</td>\n",
       "    </tr>\n",
       "    <tr>\n",
       "      <th>75%</th>\n",
       "      <td>19.899000</td>\n",
       "      <td>1.850000</td>\n",
       "    </tr>\n",
       "    <tr>\n",
       "      <th>max</th>\n",
       "      <td>36.339000</td>\n",
       "      <td>12.646000</td>\n",
       "    </tr>\n",
       "  </tbody>\n",
       "</table>\n",
       "</div>"
      ],
      "text/plain": [
       "       AverageTemperature  AverageTemperatureUncertainty\n",
       "count       620027.000000                  620027.000000\n",
       "mean             8.993111                       1.287647\n",
       "std             13.772150                       1.360392\n",
       "min            -45.389000                       0.036000\n",
       "25%             -0.693000                       0.316000\n",
       "50%             11.199000                       0.656000\n",
       "75%             19.899000                       1.850000\n",
       "max             36.339000                      12.646000"
      ]
     },
     "execution_count": 8,
     "metadata": {},
     "output_type": "execute_result"
    }
   ],
   "source": [
    "data.describe()"
   ]
  },
  {
   "cell_type": "markdown",
   "id": "10ce2d15",
   "metadata": {},
   "source": [
    "##### Let's create a Year column"
   ]
  },
  {
   "cell_type": "code",
   "execution_count": 9,
   "id": "ad66012a",
   "metadata": {},
   "outputs": [
    {
     "data": {
      "text/html": [
       "<div>\n",
       "<style scoped>\n",
       "    .dataframe tbody tr th:only-of-type {\n",
       "        vertical-align: middle;\n",
       "    }\n",
       "\n",
       "    .dataframe tbody tr th {\n",
       "        vertical-align: top;\n",
       "    }\n",
       "\n",
       "    .dataframe thead th {\n",
       "        text-align: right;\n",
       "    }\n",
       "</style>\n",
       "<table border=\"1\" class=\"dataframe\">\n",
       "  <thead>\n",
       "    <tr style=\"text-align: right;\">\n",
       "      <th></th>\n",
       "      <th>AverageTemperature</th>\n",
       "      <th>AverageTemperatureUncertainty</th>\n",
       "      <th>State</th>\n",
       "      <th>Country</th>\n",
       "      <th>Year</th>\n",
       "    </tr>\n",
       "    <tr>\n",
       "      <th>dt</th>\n",
       "      <th></th>\n",
       "      <th></th>\n",
       "      <th></th>\n",
       "      <th></th>\n",
       "      <th></th>\n",
       "    </tr>\n",
       "  </thead>\n",
       "  <tbody>\n",
       "    <tr>\n",
       "      <th>1855-05-01</th>\n",
       "      <td>25.544</td>\n",
       "      <td>1.171</td>\n",
       "      <td>Acre</td>\n",
       "      <td>Brazil</td>\n",
       "      <td>1855</td>\n",
       "    </tr>\n",
       "    <tr>\n",
       "      <th>1855-06-01</th>\n",
       "      <td>24.228</td>\n",
       "      <td>1.103</td>\n",
       "      <td>Acre</td>\n",
       "      <td>Brazil</td>\n",
       "      <td>1855</td>\n",
       "    </tr>\n",
       "    <tr>\n",
       "      <th>1855-07-01</th>\n",
       "      <td>24.371</td>\n",
       "      <td>1.044</td>\n",
       "      <td>Acre</td>\n",
       "      <td>Brazil</td>\n",
       "      <td>1855</td>\n",
       "    </tr>\n",
       "    <tr>\n",
       "      <th>1855-08-01</th>\n",
       "      <td>25.427</td>\n",
       "      <td>1.073</td>\n",
       "      <td>Acre</td>\n",
       "      <td>Brazil</td>\n",
       "      <td>1855</td>\n",
       "    </tr>\n",
       "    <tr>\n",
       "      <th>1855-09-01</th>\n",
       "      <td>25.675</td>\n",
       "      <td>1.014</td>\n",
       "      <td>Acre</td>\n",
       "      <td>Brazil</td>\n",
       "      <td>1855</td>\n",
       "    </tr>\n",
       "  </tbody>\n",
       "</table>\n",
       "</div>"
      ],
      "text/plain": [
       "            AverageTemperature  AverageTemperatureUncertainty State Country  \\\n",
       "dt                                                                            \n",
       "1855-05-01              25.544                          1.171  Acre  Brazil   \n",
       "1855-06-01              24.228                          1.103  Acre  Brazil   \n",
       "1855-07-01              24.371                          1.044  Acre  Brazil   \n",
       "1855-08-01              25.427                          1.073  Acre  Brazil   \n",
       "1855-09-01              25.675                          1.014  Acre  Brazil   \n",
       "\n",
       "            Year  \n",
       "dt                \n",
       "1855-05-01  1855  \n",
       "1855-06-01  1855  \n",
       "1855-07-01  1855  \n",
       "1855-08-01  1855  \n",
       "1855-09-01  1855  "
      ]
     },
     "execution_count": 9,
     "metadata": {},
     "output_type": "execute_result"
    }
   ],
   "source": [
    "data['Year'] = data.index.year\n",
    "data.head()"
   ]
  },
  {
   "cell_type": "code",
   "execution_count": 10,
   "id": "d0383396",
   "metadata": {},
   "outputs": [
    {
     "data": {
      "text/html": [
       "<div>\n",
       "<style scoped>\n",
       "    .dataframe tbody tr th:only-of-type {\n",
       "        vertical-align: middle;\n",
       "    }\n",
       "\n",
       "    .dataframe tbody tr th {\n",
       "        vertical-align: top;\n",
       "    }\n",
       "\n",
       "    .dataframe thead th {\n",
       "        text-align: right;\n",
       "    }\n",
       "</style>\n",
       "<table border=\"1\" class=\"dataframe\">\n",
       "  <thead>\n",
       "    <tr style=\"text-align: right;\">\n",
       "      <th></th>\n",
       "      <th>AverageTemperature</th>\n",
       "      <th>AverageTemperatureUncertainty</th>\n",
       "      <th>Year</th>\n",
       "    </tr>\n",
       "  </thead>\n",
       "  <tbody>\n",
       "    <tr>\n",
       "      <th>count</th>\n",
       "      <td>620027.000000</td>\n",
       "      <td>620027.000000</td>\n",
       "      <td>620027.000000</td>\n",
       "    </tr>\n",
       "    <tr>\n",
       "      <th>mean</th>\n",
       "      <td>8.993111</td>\n",
       "      <td>1.287647</td>\n",
       "      <td>1902.331598</td>\n",
       "    </tr>\n",
       "    <tr>\n",
       "      <th>std</th>\n",
       "      <td>13.772150</td>\n",
       "      <td>1.360392</td>\n",
       "      <td>67.831393</td>\n",
       "    </tr>\n",
       "    <tr>\n",
       "      <th>min</th>\n",
       "      <td>-45.389000</td>\n",
       "      <td>0.036000</td>\n",
       "      <td>1743.000000</td>\n",
       "    </tr>\n",
       "    <tr>\n",
       "      <th>25%</th>\n",
       "      <td>-0.693000</td>\n",
       "      <td>0.316000</td>\n",
       "      <td>1851.000000</td>\n",
       "    </tr>\n",
       "    <tr>\n",
       "      <th>50%</th>\n",
       "      <td>11.199000</td>\n",
       "      <td>0.656000</td>\n",
       "      <td>1906.000000</td>\n",
       "    </tr>\n",
       "    <tr>\n",
       "      <th>75%</th>\n",
       "      <td>19.899000</td>\n",
       "      <td>1.850000</td>\n",
       "      <td>1960.000000</td>\n",
       "    </tr>\n",
       "    <tr>\n",
       "      <th>max</th>\n",
       "      <td>36.339000</td>\n",
       "      <td>12.646000</td>\n",
       "      <td>2013.000000</td>\n",
       "    </tr>\n",
       "  </tbody>\n",
       "</table>\n",
       "</div>"
      ],
      "text/plain": [
       "       AverageTemperature  AverageTemperatureUncertainty           Year\n",
       "count       620027.000000                  620027.000000  620027.000000\n",
       "mean             8.993111                       1.287647    1902.331598\n",
       "std             13.772150                       1.360392      67.831393\n",
       "min            -45.389000                       0.036000    1743.000000\n",
       "25%             -0.693000                       0.316000    1851.000000\n",
       "50%             11.199000                       0.656000    1906.000000\n",
       "75%             19.899000                       1.850000    1960.000000\n",
       "max             36.339000                      12.646000    2013.000000"
      ]
     },
     "execution_count": 10,
     "metadata": {},
     "output_type": "execute_result"
    }
   ],
   "source": [
    "data.describe()"
   ]
  },
  {
   "cell_type": "markdown",
   "id": "887d376b",
   "metadata": {},
   "source": [
    "##### Let's take a range between 1980 to 2013 to analyze the data"
   ]
  },
  {
   "cell_type": "code",
   "execution_count": 11,
   "id": "652aea70",
   "metadata": {},
   "outputs": [
    {
     "data": {
      "text/html": [
       "<div>\n",
       "<style scoped>\n",
       "    .dataframe tbody tr th:only-of-type {\n",
       "        vertical-align: middle;\n",
       "    }\n",
       "\n",
       "    .dataframe tbody tr th {\n",
       "        vertical-align: top;\n",
       "    }\n",
       "\n",
       "    .dataframe thead th {\n",
       "        text-align: right;\n",
       "    }\n",
       "</style>\n",
       "<table border=\"1\" class=\"dataframe\">\n",
       "  <thead>\n",
       "    <tr style=\"text-align: right;\">\n",
       "      <th></th>\n",
       "      <th>AverageTemperature</th>\n",
       "      <th>AverageTemperatureUncertainty</th>\n",
       "      <th>State</th>\n",
       "      <th>Country</th>\n",
       "      <th>Year</th>\n",
       "    </tr>\n",
       "    <tr>\n",
       "      <th>dt</th>\n",
       "      <th></th>\n",
       "      <th></th>\n",
       "      <th></th>\n",
       "      <th></th>\n",
       "      <th></th>\n",
       "    </tr>\n",
       "  </thead>\n",
       "  <tbody>\n",
       "    <tr>\n",
       "      <th>1980-01-01</th>\n",
       "      <td>26.652</td>\n",
       "      <td>0.190</td>\n",
       "      <td>Acre</td>\n",
       "      <td>Brazil</td>\n",
       "      <td>1980</td>\n",
       "    </tr>\n",
       "    <tr>\n",
       "      <th>1980-02-01</th>\n",
       "      <td>26.495</td>\n",
       "      <td>0.495</td>\n",
       "      <td>Acre</td>\n",
       "      <td>Brazil</td>\n",
       "      <td>1980</td>\n",
       "    </tr>\n",
       "    <tr>\n",
       "      <th>1980-03-01</th>\n",
       "      <td>26.270</td>\n",
       "      <td>0.236</td>\n",
       "      <td>Acre</td>\n",
       "      <td>Brazil</td>\n",
       "      <td>1980</td>\n",
       "    </tr>\n",
       "    <tr>\n",
       "      <th>1980-04-01</th>\n",
       "      <td>26.430</td>\n",
       "      <td>0.201</td>\n",
       "      <td>Acre</td>\n",
       "      <td>Brazil</td>\n",
       "      <td>1980</td>\n",
       "    </tr>\n",
       "    <tr>\n",
       "      <th>1980-05-01</th>\n",
       "      <td>25.802</td>\n",
       "      <td>0.882</td>\n",
       "      <td>Acre</td>\n",
       "      <td>Brazil</td>\n",
       "      <td>1980</td>\n",
       "    </tr>\n",
       "    <tr>\n",
       "      <th>...</th>\n",
       "      <td>...</td>\n",
       "      <td>...</td>\n",
       "      <td>...</td>\n",
       "      <td>...</td>\n",
       "      <td>...</td>\n",
       "    </tr>\n",
       "    <tr>\n",
       "      <th>2013-04-01</th>\n",
       "      <td>15.710</td>\n",
       "      <td>0.461</td>\n",
       "      <td>Zhejiang</td>\n",
       "      <td>China</td>\n",
       "      <td>2013</td>\n",
       "    </tr>\n",
       "    <tr>\n",
       "      <th>2013-05-01</th>\n",
       "      <td>21.634</td>\n",
       "      <td>0.578</td>\n",
       "      <td>Zhejiang</td>\n",
       "      <td>China</td>\n",
       "      <td>2013</td>\n",
       "    </tr>\n",
       "    <tr>\n",
       "      <th>2013-06-01</th>\n",
       "      <td>24.679</td>\n",
       "      <td>0.596</td>\n",
       "      <td>Zhejiang</td>\n",
       "      <td>China</td>\n",
       "      <td>2013</td>\n",
       "    </tr>\n",
       "    <tr>\n",
       "      <th>2013-07-01</th>\n",
       "      <td>29.272</td>\n",
       "      <td>1.340</td>\n",
       "      <td>Zhejiang</td>\n",
       "      <td>China</td>\n",
       "      <td>2013</td>\n",
       "    </tr>\n",
       "    <tr>\n",
       "      <th>2013-08-01</th>\n",
       "      <td>29.202</td>\n",
       "      <td>0.869</td>\n",
       "      <td>Zhejiang</td>\n",
       "      <td>China</td>\n",
       "      <td>2013</td>\n",
       "    </tr>\n",
       "  </tbody>\n",
       "</table>\n",
       "<p>97424 rows × 5 columns</p>\n",
       "</div>"
      ],
      "text/plain": [
       "            AverageTemperature  AverageTemperatureUncertainty     State  \\\n",
       "dt                                                                        \n",
       "1980-01-01              26.652                          0.190      Acre   \n",
       "1980-02-01              26.495                          0.495      Acre   \n",
       "1980-03-01              26.270                          0.236      Acre   \n",
       "1980-04-01              26.430                          0.201      Acre   \n",
       "1980-05-01              25.802                          0.882      Acre   \n",
       "...                        ...                            ...       ...   \n",
       "2013-04-01              15.710                          0.461  Zhejiang   \n",
       "2013-05-01              21.634                          0.578  Zhejiang   \n",
       "2013-06-01              24.679                          0.596  Zhejiang   \n",
       "2013-07-01              29.272                          1.340  Zhejiang   \n",
       "2013-08-01              29.202                          0.869  Zhejiang   \n",
       "\n",
       "           Country  Year  \n",
       "dt                        \n",
       "1980-01-01  Brazil  1980  \n",
       "1980-02-01  Brazil  1980  \n",
       "1980-03-01  Brazil  1980  \n",
       "1980-04-01  Brazil  1980  \n",
       "1980-05-01  Brazil  1980  \n",
       "...            ...   ...  \n",
       "2013-04-01   China  2013  \n",
       "2013-05-01   China  2013  \n",
       "2013-06-01   China  2013  \n",
       "2013-07-01   China  2013  \n",
       "2013-08-01   China  2013  \n",
       "\n",
       "[97424 rows x 5 columns]"
      ]
     },
     "execution_count": 11,
     "metadata": {},
     "output_type": "execute_result"
    }
   ],
   "source": [
    "data_new = data.loc['1980':'2013']\n",
    "data_new"
   ]
  },
  {
   "cell_type": "markdown",
   "id": "76b2acc6",
   "metadata": {},
   "source": [
    "##### Plotting the average temperature over the years"
   ]
  },
  {
   "cell_type": "code",
   "execution_count": 12,
   "id": "a302f9c5",
   "metadata": {},
   "outputs": [],
   "source": [
    "Temp_over_years = data_new.groupby(['Year'])['AverageTemperature'].mean().reset_index()"
   ]
  },
  {
   "cell_type": "code",
   "execution_count": 13,
   "id": "3d55b7d2",
   "metadata": {},
   "outputs": [
    {
     "data": {
      "text/html": [
       "<div>\n",
       "<style scoped>\n",
       "    .dataframe tbody tr th:only-of-type {\n",
       "        vertical-align: middle;\n",
       "    }\n",
       "\n",
       "    .dataframe tbody tr th {\n",
       "        vertical-align: top;\n",
       "    }\n",
       "\n",
       "    .dataframe thead th {\n",
       "        text-align: right;\n",
       "    }\n",
       "</style>\n",
       "<table border=\"1\" class=\"dataframe\">\n",
       "  <thead>\n",
       "    <tr style=\"text-align: right;\">\n",
       "      <th></th>\n",
       "      <th>Year</th>\n",
       "      <th>AverageTemperature</th>\n",
       "    </tr>\n",
       "  </thead>\n",
       "  <tbody>\n",
       "    <tr>\n",
       "      <th>0</th>\n",
       "      <td>1980</td>\n",
       "      <td>9.689856</td>\n",
       "    </tr>\n",
       "    <tr>\n",
       "      <th>1</th>\n",
       "      <td>1981</td>\n",
       "      <td>10.366578</td>\n",
       "    </tr>\n",
       "    <tr>\n",
       "      <th>2</th>\n",
       "      <td>1982</td>\n",
       "      <td>9.837958</td>\n",
       "    </tr>\n",
       "    <tr>\n",
       "      <th>3</th>\n",
       "      <td>1983</td>\n",
       "      <td>10.259516</td>\n",
       "    </tr>\n",
       "    <tr>\n",
       "      <th>4</th>\n",
       "      <td>1984</td>\n",
       "      <td>9.724950</td>\n",
       "    </tr>\n",
       "    <tr>\n",
       "      <th>5</th>\n",
       "      <td>1985</td>\n",
       "      <td>9.465436</td>\n",
       "    </tr>\n",
       "    <tr>\n",
       "      <th>6</th>\n",
       "      <td>1986</td>\n",
       "      <td>9.914519</td>\n",
       "    </tr>\n",
       "    <tr>\n",
       "      <th>7</th>\n",
       "      <td>1987</td>\n",
       "      <td>9.726528</td>\n",
       "    </tr>\n",
       "    <tr>\n",
       "      <th>8</th>\n",
       "      <td>1988</td>\n",
       "      <td>10.158058</td>\n",
       "    </tr>\n",
       "    <tr>\n",
       "      <th>9</th>\n",
       "      <td>1989</td>\n",
       "      <td>10.293226</td>\n",
       "    </tr>\n",
       "    <tr>\n",
       "      <th>10</th>\n",
       "      <td>1990</td>\n",
       "      <td>10.579912</td>\n",
       "    </tr>\n",
       "    <tr>\n",
       "      <th>11</th>\n",
       "      <td>1991</td>\n",
       "      <td>10.394824</td>\n",
       "    </tr>\n",
       "    <tr>\n",
       "      <th>12</th>\n",
       "      <td>1992</td>\n",
       "      <td>9.940195</td>\n",
       "    </tr>\n",
       "    <tr>\n",
       "      <th>13</th>\n",
       "      <td>1993</td>\n",
       "      <td>9.760204</td>\n",
       "    </tr>\n",
       "    <tr>\n",
       "      <th>14</th>\n",
       "      <td>1994</td>\n",
       "      <td>10.067471</td>\n",
       "    </tr>\n",
       "    <tr>\n",
       "      <th>15</th>\n",
       "      <td>1995</td>\n",
       "      <td>10.656668</td>\n",
       "    </tr>\n",
       "    <tr>\n",
       "      <th>16</th>\n",
       "      <td>1996</td>\n",
       "      <td>9.818723</td>\n",
       "    </tr>\n",
       "    <tr>\n",
       "      <th>17</th>\n",
       "      <td>1997</td>\n",
       "      <td>10.064026</td>\n",
       "    </tr>\n",
       "    <tr>\n",
       "      <th>18</th>\n",
       "      <td>1998</td>\n",
       "      <td>10.592179</td>\n",
       "    </tr>\n",
       "    <tr>\n",
       "      <th>19</th>\n",
       "      <td>1999</td>\n",
       "      <td>10.637408</td>\n",
       "    </tr>\n",
       "    <tr>\n",
       "      <th>20</th>\n",
       "      <td>2000</td>\n",
       "      <td>10.426971</td>\n",
       "    </tr>\n",
       "    <tr>\n",
       "      <th>21</th>\n",
       "      <td>2001</td>\n",
       "      <td>10.557589</td>\n",
       "    </tr>\n",
       "    <tr>\n",
       "      <th>22</th>\n",
       "      <td>2002</td>\n",
       "      <td>10.641713</td>\n",
       "    </tr>\n",
       "    <tr>\n",
       "      <th>23</th>\n",
       "      <td>2003</td>\n",
       "      <td>10.440567</td>\n",
       "    </tr>\n",
       "    <tr>\n",
       "      <th>24</th>\n",
       "      <td>2004</td>\n",
       "      <td>10.518699</td>\n",
       "    </tr>\n",
       "    <tr>\n",
       "      <th>25</th>\n",
       "      <td>2005</td>\n",
       "      <td>10.718543</td>\n",
       "    </tr>\n",
       "    <tr>\n",
       "      <th>26</th>\n",
       "      <td>2006</td>\n",
       "      <td>10.633299</td>\n",
       "    </tr>\n",
       "    <tr>\n",
       "      <th>27</th>\n",
       "      <td>2007</td>\n",
       "      <td>10.989940</td>\n",
       "    </tr>\n",
       "    <tr>\n",
       "      <th>28</th>\n",
       "      <td>2008</td>\n",
       "      <td>10.685179</td>\n",
       "    </tr>\n",
       "    <tr>\n",
       "      <th>29</th>\n",
       "      <td>2009</td>\n",
       "      <td>10.461537</td>\n",
       "    </tr>\n",
       "    <tr>\n",
       "      <th>30</th>\n",
       "      <td>2010</td>\n",
       "      <td>10.686661</td>\n",
       "    </tr>\n",
       "    <tr>\n",
       "      <th>31</th>\n",
       "      <td>2011</td>\n",
       "      <td>10.500732</td>\n",
       "    </tr>\n",
       "    <tr>\n",
       "      <th>32</th>\n",
       "      <td>2012</td>\n",
       "      <td>10.755588</td>\n",
       "    </tr>\n",
       "    <tr>\n",
       "      <th>33</th>\n",
       "      <td>2013</td>\n",
       "      <td>11.771115</td>\n",
       "    </tr>\n",
       "  </tbody>\n",
       "</table>\n",
       "</div>"
      ],
      "text/plain": [
       "    Year  AverageTemperature\n",
       "0   1980            9.689856\n",
       "1   1981           10.366578\n",
       "2   1982            9.837958\n",
       "3   1983           10.259516\n",
       "4   1984            9.724950\n",
       "5   1985            9.465436\n",
       "6   1986            9.914519\n",
       "7   1987            9.726528\n",
       "8   1988           10.158058\n",
       "9   1989           10.293226\n",
       "10  1990           10.579912\n",
       "11  1991           10.394824\n",
       "12  1992            9.940195\n",
       "13  1993            9.760204\n",
       "14  1994           10.067471\n",
       "15  1995           10.656668\n",
       "16  1996            9.818723\n",
       "17  1997           10.064026\n",
       "18  1998           10.592179\n",
       "19  1999           10.637408\n",
       "20  2000           10.426971\n",
       "21  2001           10.557589\n",
       "22  2002           10.641713\n",
       "23  2003           10.440567\n",
       "24  2004           10.518699\n",
       "25  2005           10.718543\n",
       "26  2006           10.633299\n",
       "27  2007           10.989940\n",
       "28  2008           10.685179\n",
       "29  2009           10.461537\n",
       "30  2010           10.686661\n",
       "31  2011           10.500732\n",
       "32  2012           10.755588\n",
       "33  2013           11.771115"
      ]
     },
     "execution_count": 13,
     "metadata": {},
     "output_type": "execute_result"
    }
   ],
   "source": [
    "Temp_over_years"
   ]
  },
  {
   "cell_type": "code",
   "execution_count": 14,
   "id": "0c0dd01c",
   "metadata": {},
   "outputs": [
    {
     "data": {
      "image/png": "[encoded data removed]",
      "text/plain": [
       "<Figure size 1200x400 with 1 Axes>"
      ]
     },
     "metadata": {},
     "output_type": "display_data"
    }
   ],
   "source": [
    "plt.figure(figsize=(12,4))\n",
    "sns.lineplot(data=Temp_over_years,x='Year',y='AverageTemperature',color = 'red')\n",
    "plt.show()"
   ]
  },
  {
   "cell_type": "markdown",
   "id": "227432d6",
   "metadata": {},
   "source": [
    "The average temperature is increasing over time"
   ]
  },
  {
   "cell_type": "markdown",
   "id": "20ba94c7",
   "metadata": {},
   "source": [
    "#### Resampling the DataFrame for drawing more distinctive line(correct method)"
   ]
  },
  {
   "cell_type": "code",
   "execution_count": 15,
   "id": "79fe3c71",
   "metadata": {},
   "outputs": [],
   "source": [
    "data_resampled = data_new[['AverageTemperature']].resample('A').mean()"
   ]
  },
  {
   "cell_type": "code",
   "execution_count": 16,
   "id": "648f23d8",
   "metadata": {},
   "outputs": [
    {
     "data": {
      "text/html": [
       "<div>\n",
       "<style scoped>\n",
       "    .dataframe tbody tr th:only-of-type {\n",
       "        vertical-align: middle;\n",
       "    }\n",
       "\n",
       "    .dataframe tbody tr th {\n",
       "        vertical-align: top;\n",
       "    }\n",
       "\n",
       "    .dataframe thead th {\n",
       "        text-align: right;\n",
       "    }\n",
       "</style>\n",
       "<table border=\"1\" class=\"dataframe\">\n",
       "  <thead>\n",
       "    <tr style=\"text-align: right;\">\n",
       "      <th></th>\n",
       "      <th>AverageTemperature</th>\n",
       "    </tr>\n",
       "    <tr>\n",
       "      <th>dt</th>\n",
       "      <th></th>\n",
       "    </tr>\n",
       "  </thead>\n",
       "  <tbody>\n",
       "    <tr>\n",
       "      <th>1980-12-31</th>\n",
       "      <td>9.689856</td>\n",
       "    </tr>\n",
       "    <tr>\n",
       "      <th>1981-12-31</th>\n",
       "      <td>10.366578</td>\n",
       "    </tr>\n",
       "    <tr>\n",
       "      <th>1982-12-31</th>\n",
       "      <td>9.837958</td>\n",
       "    </tr>\n",
       "    <tr>\n",
       "      <th>1983-12-31</th>\n",
       "      <td>10.259516</td>\n",
       "    </tr>\n",
       "    <tr>\n",
       "      <th>1984-12-31</th>\n",
       "      <td>9.724950</td>\n",
       "    </tr>\n",
       "  </tbody>\n",
       "</table>\n",
       "</div>"
      ],
      "text/plain": [
       "            AverageTemperature\n",
       "dt                            \n",
       "1980-12-31            9.689856\n",
       "1981-12-31           10.366578\n",
       "1982-12-31            9.837958\n",
       "1983-12-31           10.259516\n",
       "1984-12-31            9.724950"
      ]
     },
     "execution_count": 16,
     "metadata": {},
     "output_type": "execute_result"
    }
   ],
   "source": [
    "data_resampled.head()"
   ]
  },
  {
   "cell_type": "code",
   "execution_count": 17,
   "id": "1e6a9d37",
   "metadata": {},
   "outputs": [
    {
     "data": {
      "image/png": "[encoded data removed]",
      "text/plain": [
       "<Figure size 1200x400 with 1 Axes>"
      ]
     },
     "metadata": {},
     "output_type": "display_data"
    }
   ],
   "source": [
    "data_resampled.plot(title=\"Temperature changes fronm 1980 to 2013\",figsize=(12,4))\n",
    "plt.xlabel('Year')\n",
    "plt.ylabel('Temperature')\n",
    "plt.show()"
   ]
  },
  {
   "cell_type": "markdown",
   "id": "fd398b2f",
   "metadata": {},
   "source": [
    "Lets now apply Dicky fuller Test\n",
    "\n",
    "The null Hypothesis is that the Time series is not stationary and is affected by trends"
   ]
  },
  {
   "cell_type": "code",
   "execution_count": 18,
   "id": "05500171",
   "metadata": {},
   "outputs": [],
   "source": [
    "data_adf = adfuller(data_resampled)"
   ]
  },
  {
   "cell_type": "code",
   "execution_count": 19,
   "id": "c6113eef",
   "metadata": {},
   "outputs": [
    {
     "data": {
      "text/plain": [
       "(-0.7282086836640944,\n",
       " 0.8393069398295807,\n",
       " 2,\n",
       " 31,\n",
       " {'1%': -3.661428725118324,\n",
       "  '5%': -2.960525341210433,\n",
       "  '10%': -2.6193188033298647},\n",
       " 21.782091866408557)"
      ]
     },
     "execution_count": 19,
     "metadata": {},
     "output_type": "execute_result"
    }
   ],
   "source": [
    "data_adf"
   ]
  },
  {
   "cell_type": "markdown",
   "id": "95876105",
   "metadata": {},
   "source": [
    "#### Test statistic"
   ]
  },
  {
   "cell_type": "code",
   "execution_count": 20,
   "id": "3529a9b3",
   "metadata": {},
   "outputs": [
    {
     "data": {
      "text/plain": [
       "-0.7282086836640944"
      ]
     },
     "execution_count": 20,
     "metadata": {},
     "output_type": "execute_result"
    }
   ],
   "source": [
    "data_adf[0]"
   ]
  },
  {
   "cell_type": "markdown",
   "id": "f36588d3",
   "metadata": {},
   "source": [
    "#### p-value"
   ]
  },
  {
   "cell_type": "code",
   "execution_count": 21,
   "id": "ece6592a",
   "metadata": {},
   "outputs": [
    {
     "data": {
      "text/plain": [
       "0.8393069398295807"
      ]
     },
     "execution_count": 21,
     "metadata": {},
     "output_type": "execute_result"
    }
   ],
   "source": [
    "data_adf[1]"
   ]
  },
  {
   "cell_type": "markdown",
   "id": "161f53f6",
   "metadata": {},
   "source": [
    "#### CI values"
   ]
  },
  {
   "cell_type": "code",
   "execution_count": 22,
   "id": "3ad1cc74",
   "metadata": {},
   "outputs": [
    {
     "data": {
      "text/plain": [
       "{'1%': -3.661428725118324,\n",
       " '5%': -2.960525341210433,\n",
       " '10%': -2.6193188033298647}"
      ]
     },
     "execution_count": 22,
     "metadata": {},
     "output_type": "execute_result"
    }
   ],
   "source": [
    "data_adf[4]"
   ]
  },
  {
   "cell_type": "markdown",
   "id": "42dc0791",
   "metadata": {},
   "source": [
    "We have failed to reject the null hypothesis"
   ]
  },
  {
   "cell_type": "markdown",
   "id": "3109b388",
   "metadata": {},
   "source": [
    "#### Decomposing the TS"
   ]
  },
  {
   "cell_type": "code",
   "execution_count": 23,
   "id": "a034eddd",
   "metadata": {},
   "outputs": [],
   "source": [
    "data_decompose = seasonal_decompose(data_resampled,period = 3)"
   ]
  },
  {
   "cell_type": "code",
   "execution_count": 24,
   "id": "3c4d1e68",
   "metadata": {},
   "outputs": [],
   "source": [
    "trend = data_decompose.trend\n",
    "seasonal = data_decompose.seasonal\n",
    "residual = data_decompose.resid"
   ]
  },
  {
   "cell_type": "code",
   "execution_count": 25,
   "id": "53e8d4a2",
   "metadata": {},
   "outputs": [
    {
     "data": {
      "image/png": "[encoded data removed]",
      "text/plain": [
       "<Figure size 1200x1200 with 4 Axes>"
      ]
     },
     "metadata": {},
     "output_type": "display_data"
    }
   ],
   "source": [
    "plt.figure(figsize=(12,12))\n",
    "plt.subplot(2,2,1)\n",
    "plt.plot(data_resampled)\n",
    "plt.xlabel('Original')\n",
    "\n",
    "plt.subplot(2,2,2)\n",
    "plt.plot(trend)\n",
    "plt.xlabel('Trend')\n",
    "\n",
    "plt.subplot(2,2,3)\n",
    "plt.plot(seasonal)\n",
    "plt.xlabel('Seasonal')\n",
    "\n",
    "plt.subplot(2,2,4)\n",
    "plt.plot(residual)\n",
    "plt.xlabel('Residual')\n",
    "\n",
    "plt.show()"
   ]
  },
  {
   "cell_type": "markdown",
   "id": "a9b1d059",
   "metadata": {},
   "source": [
    "#### Transorming the data to make it stationary using differencing"
   ]
  },
  {
   "cell_type": "code",
   "execution_count": 26,
   "id": "a07c4dc2",
   "metadata": {},
   "outputs": [],
   "source": [
    "rol_mean = data_resampled.rolling(window = 3,center = True).mean()\n",
    "rol_std = data_resampled.rolling(window = 3 ,center = True).std()\n",
    "ewm = data_resampled.ewm(span = 3).mean()"
   ]
  },
  {
   "cell_type": "code",
   "execution_count": 27,
   "id": "a7ecfd6a",
   "metadata": {},
   "outputs": [],
   "source": [
    "difference_rol_mean = data_resampled - rol_mean"
   ]
  },
  {
   "cell_type": "code",
   "execution_count": 28,
   "id": "7a896a35",
   "metadata": {},
   "outputs": [
    {
     "data": {
      "text/html": [
       "<div>\n",
       "<style scoped>\n",
       "    .dataframe tbody tr th:only-of-type {\n",
       "        vertical-align: middle;\n",
       "    }\n",
       "\n",
       "    .dataframe tbody tr th {\n",
       "        vertical-align: top;\n",
       "    }\n",
       "\n",
       "    .dataframe thead th {\n",
       "        text-align: right;\n",
       "    }\n",
       "</style>\n",
       "<table border=\"1\" class=\"dataframe\">\n",
       "  <thead>\n",
       "    <tr style=\"text-align: right;\">\n",
       "      <th></th>\n",
       "      <th>AverageTemperature</th>\n",
       "    </tr>\n",
       "    <tr>\n",
       "      <th>dt</th>\n",
       "      <th></th>\n",
       "    </tr>\n",
       "  </thead>\n",
       "  <tbody>\n",
       "    <tr>\n",
       "      <th>1980-12-31</th>\n",
       "      <td>NaN</td>\n",
       "    </tr>\n",
       "    <tr>\n",
       "      <th>1981-12-31</th>\n",
       "      <td>0.401781</td>\n",
       "    </tr>\n",
       "    <tr>\n",
       "      <th>1982-12-31</th>\n",
       "      <td>-0.316726</td>\n",
       "    </tr>\n",
       "    <tr>\n",
       "      <th>1983-12-31</th>\n",
       "      <td>0.318708</td>\n",
       "    </tr>\n",
       "    <tr>\n",
       "      <th>1984-12-31</th>\n",
       "      <td>-0.091684</td>\n",
       "    </tr>\n",
       "    <tr>\n",
       "      <th>1985-12-31</th>\n",
       "      <td>-0.236199</td>\n",
       "    </tr>\n",
       "    <tr>\n",
       "      <th>1986-12-31</th>\n",
       "      <td>0.212358</td>\n",
       "    </tr>\n",
       "    <tr>\n",
       "      <th>1987-12-31</th>\n",
       "      <td>-0.206507</td>\n",
       "    </tr>\n",
       "    <tr>\n",
       "      <th>1988-12-31</th>\n",
       "      <td>0.098788</td>\n",
       "    </tr>\n",
       "    <tr>\n",
       "      <th>1989-12-31</th>\n",
       "      <td>-0.050506</td>\n",
       "    </tr>\n",
       "    <tr>\n",
       "      <th>1990-12-31</th>\n",
       "      <td>0.157258</td>\n",
       "    </tr>\n",
       "    <tr>\n",
       "      <th>1991-12-31</th>\n",
       "      <td>0.089847</td>\n",
       "    </tr>\n",
       "    <tr>\n",
       "      <th>1992-12-31</th>\n",
       "      <td>-0.091546</td>\n",
       "    </tr>\n",
       "    <tr>\n",
       "      <th>1993-12-31</th>\n",
       "      <td>-0.162419</td>\n",
       "    </tr>\n",
       "    <tr>\n",
       "      <th>1994-12-31</th>\n",
       "      <td>-0.093977</td>\n",
       "    </tr>\n",
       "    <tr>\n",
       "      <th>1995-12-31</th>\n",
       "      <td>0.475714</td>\n",
       "    </tr>\n",
       "    <tr>\n",
       "      <th>1996-12-31</th>\n",
       "      <td>-0.361082</td>\n",
       "    </tr>\n",
       "    <tr>\n",
       "      <th>1997-12-31</th>\n",
       "      <td>-0.094284</td>\n",
       "    </tr>\n",
       "    <tr>\n",
       "      <th>1998-12-31</th>\n",
       "      <td>0.160975</td>\n",
       "    </tr>\n",
       "    <tr>\n",
       "      <th>1999-12-31</th>\n",
       "      <td>0.085222</td>\n",
       "    </tr>\n",
       "    <tr>\n",
       "      <th>2000-12-31</th>\n",
       "      <td>-0.113685</td>\n",
       "    </tr>\n",
       "    <tr>\n",
       "      <th>2001-12-31</th>\n",
       "      <td>0.015498</td>\n",
       "    </tr>\n",
       "    <tr>\n",
       "      <th>2002-12-31</th>\n",
       "      <td>0.095090</td>\n",
       "    </tr>\n",
       "    <tr>\n",
       "      <th>2003-12-31</th>\n",
       "      <td>-0.093093</td>\n",
       "    </tr>\n",
       "    <tr>\n",
       "      <th>2004-12-31</th>\n",
       "      <td>-0.040571</td>\n",
       "    </tr>\n",
       "    <tr>\n",
       "      <th>2005-12-31</th>\n",
       "      <td>0.095029</td>\n",
       "    </tr>\n",
       "    <tr>\n",
       "      <th>2006-12-31</th>\n",
       "      <td>-0.147294</td>\n",
       "    </tr>\n",
       "    <tr>\n",
       "      <th>2007-12-31</th>\n",
       "      <td>0.220467</td>\n",
       "    </tr>\n",
       "    <tr>\n",
       "      <th>2008-12-31</th>\n",
       "      <td>-0.027040</td>\n",
       "    </tr>\n",
       "    <tr>\n",
       "      <th>2009-12-31</th>\n",
       "      <td>-0.149589</td>\n",
       "    </tr>\n",
       "    <tr>\n",
       "      <th>2010-12-31</th>\n",
       "      <td>0.137018</td>\n",
       "    </tr>\n",
       "    <tr>\n",
       "      <th>2011-12-31</th>\n",
       "      <td>-0.146929</td>\n",
       "    </tr>\n",
       "    <tr>\n",
       "      <th>2012-12-31</th>\n",
       "      <td>-0.253557</td>\n",
       "    </tr>\n",
       "    <tr>\n",
       "      <th>2013-12-31</th>\n",
       "      <td>NaN</td>\n",
       "    </tr>\n",
       "  </tbody>\n",
       "</table>\n",
       "</div>"
      ],
      "text/plain": [
       "            AverageTemperature\n",
       "dt                            \n",
       "1980-12-31                 NaN\n",
       "1981-12-31            0.401781\n",
       "1982-12-31           -0.316726\n",
       "1983-12-31            0.318708\n",
       "1984-12-31           -0.091684\n",
       "1985-12-31           -0.236199\n",
       "1986-12-31            0.212358\n",
       "1987-12-31           -0.206507\n",
       "1988-12-31            0.098788\n",
       "1989-12-31           -0.050506\n",
       "1990-12-31            0.157258\n",
       "1991-12-31            0.089847\n",
       "1992-12-31           -0.091546\n",
       "1993-12-31           -0.162419\n",
       "1994-12-31           -0.093977\n",
       "1995-12-31            0.475714\n",
       "1996-12-31           -0.361082\n",
       "1997-12-31           -0.094284\n",
       "1998-12-31            0.160975\n",
       "1999-12-31            0.085222\n",
       "2000-12-31           -0.113685\n",
       "2001-12-31            0.015498\n",
       "2002-12-31            0.095090\n",
       "2003-12-31           -0.093093\n",
       "2004-12-31           -0.040571\n",
       "2005-12-31            0.095029\n",
       "2006-12-31           -0.147294\n",
       "2007-12-31            0.220467\n",
       "2008-12-31           -0.027040\n",
       "2009-12-31           -0.149589\n",
       "2010-12-31            0.137018\n",
       "2011-12-31           -0.146929\n",
       "2012-12-31           -0.253557\n",
       "2013-12-31                 NaN"
      ]
     },
     "execution_count": 28,
     "metadata": {},
     "output_type": "execute_result"
    }
   ],
   "source": [
    "difference_rol_mean"
   ]
  },
  {
   "cell_type": "code",
   "execution_count": 29,
   "id": "27f6f63a",
   "metadata": {},
   "outputs": [],
   "source": [
    "difference_rol_mean.dropna(inplace=True)"
   ]
  },
  {
   "cell_type": "code",
   "execution_count": 30,
   "id": "d320a106",
   "metadata": {},
   "outputs": [],
   "source": [
    "difference_ewm = data_resampled - ewm"
   ]
  },
  {
   "cell_type": "code",
   "execution_count": 31,
   "id": "530ca04d",
   "metadata": {},
   "outputs": [],
   "source": [
    "difference_ewm.dropna(inplace=True)"
   ]
  },
  {
   "cell_type": "code",
   "execution_count": 32,
   "id": "23ce2028",
   "metadata": {},
   "outputs": [],
   "source": [
    "difference_rol_std = data_resampled - rol_std"
   ]
  },
  {
   "cell_type": "code",
   "execution_count": 33,
   "id": "1980e373",
   "metadata": {},
   "outputs": [
    {
     "data": {
      "text/html": [
       "<div>\n",
       "<style scoped>\n",
       "    .dataframe tbody tr th:only-of-type {\n",
       "        vertical-align: middle;\n",
       "    }\n",
       "\n",
       "    .dataframe tbody tr th {\n",
       "        vertical-align: top;\n",
       "    }\n",
       "\n",
       "    .dataframe thead th {\n",
       "        text-align: right;\n",
       "    }\n",
       "</style>\n",
       "<table border=\"1\" class=\"dataframe\">\n",
       "  <thead>\n",
       "    <tr style=\"text-align: right;\">\n",
       "      <th></th>\n",
       "      <th>AverageTemperature</th>\n",
       "    </tr>\n",
       "    <tr>\n",
       "      <th>dt</th>\n",
       "      <th></th>\n",
       "    </tr>\n",
       "  </thead>\n",
       "  <tbody>\n",
       "    <tr>\n",
       "      <th>1980-12-31</th>\n",
       "      <td>NaN</td>\n",
       "    </tr>\n",
       "    <tr>\n",
       "      <th>1981-12-31</th>\n",
       "      <td>10.010833</td>\n",
       "    </tr>\n",
       "    <tr>\n",
       "      <th>1982-12-31</th>\n",
       "      <td>9.558490</td>\n",
       "    </tr>\n",
       "    <tr>\n",
       "      <th>1983-12-31</th>\n",
       "      <td>9.977783</td>\n",
       "    </tr>\n",
       "    <tr>\n",
       "      <th>1984-12-31</th>\n",
       "      <td>9.320048</td>\n",
       "    </tr>\n",
       "    <tr>\n",
       "      <th>1985-12-31</th>\n",
       "      <td>9.239988</td>\n",
       "    </tr>\n",
       "    <tr>\n",
       "      <th>1986-12-31</th>\n",
       "      <td>9.688988</td>\n",
       "    </tr>\n",
       "    <tr>\n",
       "      <th>1987-12-31</th>\n",
       "      <td>9.510168</td>\n",
       "    </tr>\n",
       "    <tr>\n",
       "      <th>1988-12-31</th>\n",
       "      <td>9.862075</td>\n",
       "    </tr>\n",
       "    <tr>\n",
       "      <th>1989-12-31</th>\n",
       "      <td>10.077812</td>\n",
       "    </tr>\n",
       "    <tr>\n",
       "      <th>1990-12-31</th>\n",
       "      <td>10.434557</td>\n",
       "    </tr>\n",
       "    <tr>\n",
       "      <th>1991-12-31</th>\n",
       "      <td>10.065638</td>\n",
       "    </tr>\n",
       "    <tr>\n",
       "      <th>1992-12-31</th>\n",
       "      <td>9.613131</td>\n",
       "    </tr>\n",
       "    <tr>\n",
       "      <th>1993-12-31</th>\n",
       "      <td>9.605819</td>\n",
       "    </tr>\n",
       "    <tr>\n",
       "      <th>1994-12-31</th>\n",
       "      <td>9.611910</td>\n",
       "    </tr>\n",
       "    <tr>\n",
       "      <th>1995-12-31</th>\n",
       "      <td>10.226323</td>\n",
       "    </tr>\n",
       "    <tr>\n",
       "      <th>1996-12-31</th>\n",
       "      <td>9.387920</td>\n",
       "    </tr>\n",
       "    <tr>\n",
       "      <th>1997-12-31</th>\n",
       "      <td>9.668772</td>\n",
       "    </tr>\n",
       "    <tr>\n",
       "      <th>1998-12-31</th>\n",
       "      <td>10.273390</td>\n",
       "    </tr>\n",
       "    <tr>\n",
       "      <th>1999-12-31</th>\n",
       "      <td>10.526636</td>\n",
       "    </tr>\n",
       "    <tr>\n",
       "      <th>2000-12-31</th>\n",
       "      <td>10.320736</td>\n",
       "    </tr>\n",
       "    <tr>\n",
       "      <th>2001-12-31</th>\n",
       "      <td>10.449383</td>\n",
       "    </tr>\n",
       "    <tr>\n",
       "      <th>2002-12-31</th>\n",
       "      <td>10.540692</td>\n",
       "    </tr>\n",
       "    <tr>\n",
       "      <th>2003-12-31</th>\n",
       "      <td>10.339162</td>\n",
       "    </tr>\n",
       "    <tr>\n",
       "      <th>2004-12-31</th>\n",
       "      <td>10.375339</td>\n",
       "    </tr>\n",
       "    <tr>\n",
       "      <th>2005-12-31</th>\n",
       "      <td>10.618262</td>\n",
       "    </tr>\n",
       "    <tr>\n",
       "      <th>2006-12-31</th>\n",
       "      <td>10.447058</td>\n",
       "    </tr>\n",
       "    <tr>\n",
       "      <th>2007-12-31</th>\n",
       "      <td>10.797256</td>\n",
       "    </tr>\n",
       "    <tr>\n",
       "      <th>2008-12-31</th>\n",
       "      <td>10.419942</td>\n",
       "    </tr>\n",
       "    <tr>\n",
       "      <th>2009-12-31</th>\n",
       "      <td>10.331988</td>\n",
       "    </tr>\n",
       "    <tr>\n",
       "      <th>2010-12-31</th>\n",
       "      <td>10.566393</td>\n",
       "    </tr>\n",
       "    <tr>\n",
       "      <th>2011-12-31</th>\n",
       "      <td>10.368904</td>\n",
       "    </tr>\n",
       "    <tr>\n",
       "      <th>2012-12-31</th>\n",
       "      <td>10.083512</td>\n",
       "    </tr>\n",
       "    <tr>\n",
       "      <th>2013-12-31</th>\n",
       "      <td>NaN</td>\n",
       "    </tr>\n",
       "  </tbody>\n",
       "</table>\n",
       "</div>"
      ],
      "text/plain": [
       "            AverageTemperature\n",
       "dt                            \n",
       "1980-12-31                 NaN\n",
       "1981-12-31           10.010833\n",
       "1982-12-31            9.558490\n",
       "1983-12-31            9.977783\n",
       "1984-12-31            9.320048\n",
       "1985-12-31            9.239988\n",
       "1986-12-31            9.688988\n",
       "1987-12-31            9.510168\n",
       "1988-12-31            9.862075\n",
       "1989-12-31           10.077812\n",
       "1990-12-31           10.434557\n",
       "1991-12-31           10.065638\n",
       "1992-12-31            9.613131\n",
       "1993-12-31            9.605819\n",
       "1994-12-31            9.611910\n",
       "1995-12-31           10.226323\n",
       "1996-12-31            9.387920\n",
       "1997-12-31            9.668772\n",
       "1998-12-31           10.273390\n",
       "1999-12-31           10.526636\n",
       "2000-12-31           10.320736\n",
       "2001-12-31           10.449383\n",
       "2002-12-31           10.540692\n",
       "2003-12-31           10.339162\n",
       "2004-12-31           10.375339\n",
       "2005-12-31           10.618262\n",
       "2006-12-31           10.447058\n",
       "2007-12-31           10.797256\n",
       "2008-12-31           10.419942\n",
       "2009-12-31           10.331988\n",
       "2010-12-31           10.566393\n",
       "2011-12-31           10.368904\n",
       "2012-12-31           10.083512\n",
       "2013-12-31                 NaN"
      ]
     },
     "execution_count": 33,
     "metadata": {},
     "output_type": "execute_result"
    }
   ],
   "source": [
    "difference_rol_std"
   ]
  },
  {
   "cell_type": "code",
   "execution_count": 34,
   "id": "3b3b5e69",
   "metadata": {},
   "outputs": [],
   "source": [
    "difference_rol_std.dropna(inplace=True)"
   ]
  },
  {
   "cell_type": "markdown",
   "id": "74dc0676",
   "metadata": {},
   "source": [
    "#### ADF test on Rolling difference"
   ]
  },
  {
   "cell_type": "code",
   "execution_count": 36,
   "id": "623c809a",
   "metadata": {},
   "outputs": [],
   "source": [
    "data_adf_01 = adfuller(difference_rol_mean)"
   ]
  },
  {
   "cell_type": "code",
   "execution_count": 37,
   "id": "f7160696",
   "metadata": {
    "scrolled": true
   },
   "outputs": [
    {
     "data": {
      "text/plain": [
       "(-7.007709911754551,\n",
       " 7.051586169495728e-10,\n",
       " 1,\n",
       " 30,\n",
       " {'1%': -3.6699197407407405,\n",
       "  '5%': -2.9640707407407407,\n",
       "  '10%': -2.621171111111111},\n",
       " -18.868307387256664)"
      ]
     },
     "execution_count": 37,
     "metadata": {},
     "output_type": "execute_result"
    }
   ],
   "source": [
    "data_adf_01"
   ]
  },
  {
   "cell_type": "code",
   "execution_count": null,
   "id": "0df6541d",
   "metadata": {},
   "outputs": [],
   "source": [
    "data_adf_02 = adfuller(difference_rol_std)"
   ]
  },
  {
   "cell_type": "code",
   "execution_count": 42,
   "id": "7c1bd179",
   "metadata": {},
   "outputs": [
    {
     "data": {
      "text/plain": [
       "(-4.297445827209393,\n",
       " 0.0004487582028176382,\n",
       " 1,\n",
       " 32,\n",
       " {'1%': -3.653519805908203,\n",
       "  '5%': -2.9572185644531253,\n",
       "  '10%': -2.6175881640625},\n",
       " -14.039508109032148)"
      ]
     },
     "execution_count": 42,
     "metadata": {},
     "output_type": "execute_result"
    }
   ],
   "source": [
    "data_adf_02"
   ]
  },
  {
   "cell_type": "markdown",
   "id": "09383ab3",
   "metadata": {},
   "source": [
    "#### ADF test on EWM difference"
   ]
  },
  {
   "cell_type": "code",
   "execution_count": 40,
   "id": "3362a35f",
   "metadata": {},
   "outputs": [],
   "source": [
    "data_adf_03 = adfuller(difference_ewm)"
   ]
  },
  {
   "cell_type": "code",
   "execution_count": 41,
   "id": "9074eed3",
   "metadata": {},
   "outputs": [
    {
     "data": {
      "text/plain": [
       "(-4.297445827209393,\n",
       " 0.0004487582028176382,\n",
       " 1,\n",
       " 32,\n",
       " {'1%': -3.653519805908203,\n",
       "  '5%': -2.9572185644531253,\n",
       "  '10%': -2.6175881640625},\n",
       " -14.039508109032148)"
      ]
     },
     "execution_count": 41,
     "metadata": {},
     "output_type": "execute_result"
    }
   ],
   "source": [
    "data_adf_03"
   ]
  },
  {
   "cell_type": "code",
   "execution_count": null,
   "id": "8bb75dd4",
   "metadata": {},
   "outputs": [],
   "source": []
  }
 ],
 "metadata": {
  "kernelspec": {
   "display_name": "Python 3 (ipykernel)",
   "language": "python",
   "name": "python3"
  },
  "language_info": {
   "codemirror_mode": {
    "name": "ipython",
    "version": 3
   },
   "file_extension": ".py",
   "mimetype": "text/x-python",
   "name": "python",
   "nbconvert_exporter": "python",
   "pygments_lexer": "ipython3",
   "version": "3.9.13"
  }
 },
 "nbformat": 4,
 "nbformat_minor": 5
}
