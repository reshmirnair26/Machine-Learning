{
 "cells": [
  {
   "cell_type": "markdown",
   "id": "41ebaa8a",
   "metadata": {},
   "source": [
    "## <center>ANN Binary Classification on Gender Classification Dataset"
   ]
  },
  {
   "cell_type": "code",
   "execution_count": 1,
   "id": "2a6488b9",
   "metadata": {},
   "outputs": [],
   "source": [
    "import pandas as pd\n",
    "import numpy as np\n",
    "import seaborn as sns\n",
    "import matplotlib.pyplot as plt\n",
    "import warnings\n",
    "warnings.filterwarnings('ignore')\n",
    "from sklearn.preprocessing import LabelEncoder,StandardScaler\n",
    "from sklearn.model_selection import train_test_split\n",
    "from sklearn.metrics import confusion_matrix,classification_report\n",
    "import tensorflow as tf\n",
    "from tensorflow.keras.models import Sequential\n",
    "from tensorflow.keras.callbacks import EarlyStopping\n",
    "from tensorflow.keras.layers import Dense,Dropout\n",
    "from imblearn.over_sampling import RandomOverSampler,SMOTE,ADASYN"
   ]
  },
  {
   "cell_type": "code",
   "execution_count": 2,
   "id": "63cb06e0",
   "metadata": {},
   "outputs": [
    {
     "data": {
      "text/html": [
       "<div>\n",
       "<style scoped>\n",
       "    .dataframe tbody tr th:only-of-type {\n",
       "        vertical-align: middle;\n",
       "    }\n",
       "\n",
       "    .dataframe tbody tr th {\n",
       "        vertical-align: top;\n",
       "    }\n",
       "\n",
       "    .dataframe thead th {\n",
       "        text-align: right;\n",
       "    }\n",
       "</style>\n",
       "<table border=\"1\" class=\"dataframe\">\n",
       "  <thead>\n",
       "    <tr style=\"text-align: right;\">\n",
       "      <th></th>\n",
       "      <th>long_hair</th>\n",
       "      <th>forehead_width_cm</th>\n",
       "      <th>forehead_height_cm</th>\n",
       "      <th>nose_wide</th>\n",
       "      <th>nose_long</th>\n",
       "      <th>lips_thin</th>\n",
       "      <th>distance_nose_to_lip_long</th>\n",
       "      <th>gender</th>\n",
       "    </tr>\n",
       "  </thead>\n",
       "  <tbody>\n",
       "    <tr>\n",
       "      <th>0</th>\n",
       "      <td>1</td>\n",
       "      <td>11.8</td>\n",
       "      <td>6.1</td>\n",
       "      <td>1</td>\n",
       "      <td>0</td>\n",
       "      <td>1</td>\n",
       "      <td>1</td>\n",
       "      <td>Male</td>\n",
       "    </tr>\n",
       "    <tr>\n",
       "      <th>1</th>\n",
       "      <td>0</td>\n",
       "      <td>14.0</td>\n",
       "      <td>5.4</td>\n",
       "      <td>0</td>\n",
       "      <td>0</td>\n",
       "      <td>1</td>\n",
       "      <td>0</td>\n",
       "      <td>Female</td>\n",
       "    </tr>\n",
       "    <tr>\n",
       "      <th>2</th>\n",
       "      <td>0</td>\n",
       "      <td>11.8</td>\n",
       "      <td>6.3</td>\n",
       "      <td>1</td>\n",
       "      <td>1</td>\n",
       "      <td>1</td>\n",
       "      <td>1</td>\n",
       "      <td>Male</td>\n",
       "    </tr>\n",
       "    <tr>\n",
       "      <th>3</th>\n",
       "      <td>0</td>\n",
       "      <td>14.4</td>\n",
       "      <td>6.1</td>\n",
       "      <td>0</td>\n",
       "      <td>1</td>\n",
       "      <td>1</td>\n",
       "      <td>1</td>\n",
       "      <td>Male</td>\n",
       "    </tr>\n",
       "    <tr>\n",
       "      <th>4</th>\n",
       "      <td>1</td>\n",
       "      <td>13.5</td>\n",
       "      <td>5.9</td>\n",
       "      <td>0</td>\n",
       "      <td>0</td>\n",
       "      <td>0</td>\n",
       "      <td>0</td>\n",
       "      <td>Female</td>\n",
       "    </tr>\n",
       "  </tbody>\n",
       "</table>\n",
       "</div>"
      ],
      "text/plain": [
       "   long_hair  forehead_width_cm  forehead_height_cm  nose_wide  nose_long  \\\n",
       "0          1               11.8                 6.1          1          0   \n",
       "1          0               14.0                 5.4          0          0   \n",
       "2          0               11.8                 6.3          1          1   \n",
       "3          0               14.4                 6.1          0          1   \n",
       "4          1               13.5                 5.9          0          0   \n",
       "\n",
       "   lips_thin  distance_nose_to_lip_long  gender  \n",
       "0          1                          1    Male  \n",
       "1          1                          0  Female  \n",
       "2          1                          1    Male  \n",
       "3          1                          1    Male  \n",
       "4          0                          0  Female  "
      ]
     },
     "execution_count": 2,
     "metadata": {},
     "output_type": "execute_result"
    }
   ],
   "source": [
    "data = pd.read_csv('./gender_classification.csv')\n",
    "data.head(5)"
   ]
  },
  {
   "cell_type": "code",
   "execution_count": 3,
   "id": "353a2a4a",
   "metadata": {},
   "outputs": [
    {
     "data": {
      "text/plain": [
       "(5001, 8)"
      ]
     },
     "execution_count": 3,
     "metadata": {},
     "output_type": "execute_result"
    }
   ],
   "source": [
    "data.shape"
   ]
  },
  {
   "cell_type": "code",
   "execution_count": 4,
   "id": "cf61bc34",
   "metadata": {},
   "outputs": [
    {
     "data": {
      "text/plain": [
       "long_hair                    0.0\n",
       "forehead_width_cm            0.0\n",
       "forehead_height_cm           0.0\n",
       "nose_wide                    0.0\n",
       "nose_long                    0.0\n",
       "lips_thin                    0.0\n",
       "distance_nose_to_lip_long    0.0\n",
       "gender                       0.0\n",
       "dtype: float64"
      ]
     },
     "execution_count": 4,
     "metadata": {},
     "output_type": "execute_result"
    }
   ],
   "source": [
    "data.isnull().mean()*100"
   ]
  },
  {
   "cell_type": "code",
   "execution_count": 5,
   "id": "ae33acf3",
   "metadata": {},
   "outputs": [
    {
     "data": {
      "text/plain": [
       "1768"
      ]
     },
     "execution_count": 5,
     "metadata": {},
     "output_type": "execute_result"
    }
   ],
   "source": [
    "data.duplicated().sum()"
   ]
  },
  {
   "cell_type": "code",
   "execution_count": 6,
   "id": "a0272011",
   "metadata": {},
   "outputs": [],
   "source": [
    "data.drop_duplicates(inplace=True)"
   ]
  },
  {
   "cell_type": "code",
   "execution_count": 7,
   "id": "eb5d92f3",
   "metadata": {},
   "outputs": [
    {
     "data": {
      "text/plain": [
       "0"
      ]
     },
     "execution_count": 7,
     "metadata": {},
     "output_type": "execute_result"
    }
   ],
   "source": [
    "data.duplicated().sum()"
   ]
  },
  {
   "cell_type": "code",
   "execution_count": 8,
   "id": "5c0272e2",
   "metadata": {},
   "outputs": [],
   "source": [
    "le = LabelEncoder()"
   ]
  },
  {
   "cell_type": "code",
   "execution_count": 9,
   "id": "0917adad",
   "metadata": {},
   "outputs": [],
   "source": [
    "data['gender'] = le.fit_transform(data.gender)"
   ]
  },
  {
   "cell_type": "code",
   "execution_count": 10,
   "id": "388f400f",
   "metadata": {
    "scrolled": false
   },
   "outputs": [
    {
     "data": {
      "text/html": [
       "<div>\n",
       "<style scoped>\n",
       "    .dataframe tbody tr th:only-of-type {\n",
       "        vertical-align: middle;\n",
       "    }\n",
       "\n",
       "    .dataframe tbody tr th {\n",
       "        vertical-align: top;\n",
       "    }\n",
       "\n",
       "    .dataframe thead th {\n",
       "        text-align: right;\n",
       "    }\n",
       "</style>\n",
       "<table border=\"1\" class=\"dataframe\">\n",
       "  <thead>\n",
       "    <tr style=\"text-align: right;\">\n",
       "      <th></th>\n",
       "      <th>long_hair</th>\n",
       "      <th>forehead_width_cm</th>\n",
       "      <th>forehead_height_cm</th>\n",
       "      <th>nose_wide</th>\n",
       "      <th>nose_long</th>\n",
       "      <th>lips_thin</th>\n",
       "      <th>distance_nose_to_lip_long</th>\n",
       "      <th>gender</th>\n",
       "    </tr>\n",
       "  </thead>\n",
       "  <tbody>\n",
       "    <tr>\n",
       "      <th>0</th>\n",
       "      <td>1</td>\n",
       "      <td>11.8</td>\n",
       "      <td>6.1</td>\n",
       "      <td>1</td>\n",
       "      <td>0</td>\n",
       "      <td>1</td>\n",
       "      <td>1</td>\n",
       "      <td>1</td>\n",
       "    </tr>\n",
       "    <tr>\n",
       "      <th>1</th>\n",
       "      <td>0</td>\n",
       "      <td>14.0</td>\n",
       "      <td>5.4</td>\n",
       "      <td>0</td>\n",
       "      <td>0</td>\n",
       "      <td>1</td>\n",
       "      <td>0</td>\n",
       "      <td>0</td>\n",
       "    </tr>\n",
       "    <tr>\n",
       "      <th>2</th>\n",
       "      <td>0</td>\n",
       "      <td>11.8</td>\n",
       "      <td>6.3</td>\n",
       "      <td>1</td>\n",
       "      <td>1</td>\n",
       "      <td>1</td>\n",
       "      <td>1</td>\n",
       "      <td>1</td>\n",
       "    </tr>\n",
       "    <tr>\n",
       "      <th>3</th>\n",
       "      <td>0</td>\n",
       "      <td>14.4</td>\n",
       "      <td>6.1</td>\n",
       "      <td>0</td>\n",
       "      <td>1</td>\n",
       "      <td>1</td>\n",
       "      <td>1</td>\n",
       "      <td>1</td>\n",
       "    </tr>\n",
       "    <tr>\n",
       "      <th>4</th>\n",
       "      <td>1</td>\n",
       "      <td>13.5</td>\n",
       "      <td>5.9</td>\n",
       "      <td>0</td>\n",
       "      <td>0</td>\n",
       "      <td>0</td>\n",
       "      <td>0</td>\n",
       "      <td>0</td>\n",
       "    </tr>\n",
       "  </tbody>\n",
       "</table>\n",
       "</div>"
      ],
      "text/plain": [
       "   long_hair  forehead_width_cm  forehead_height_cm  nose_wide  nose_long  \\\n",
       "0          1               11.8                 6.1          1          0   \n",
       "1          0               14.0                 5.4          0          0   \n",
       "2          0               11.8                 6.3          1          1   \n",
       "3          0               14.4                 6.1          0          1   \n",
       "4          1               13.5                 5.9          0          0   \n",
       "\n",
       "   lips_thin  distance_nose_to_lip_long  gender  \n",
       "0          1                          1       1  \n",
       "1          1                          0       0  \n",
       "2          1                          1       1  \n",
       "3          1                          1       1  \n",
       "4          0                          0       0  "
      ]
     },
     "execution_count": 10,
     "metadata": {},
     "output_type": "execute_result"
    }
   ],
   "source": [
    "data.head(5)"
   ]
  },
  {
   "cell_type": "code",
   "execution_count": 11,
   "id": "b3de94e6",
   "metadata": {},
   "outputs": [
    {
     "name": "stdout",
     "output_type": "stream",
     "text": [
      "<class 'pandas.core.frame.DataFrame'>\n",
      "Int64Index: 3233 entries, 0 to 4995\n",
      "Data columns (total 8 columns):\n",
      " #   Column                     Non-Null Count  Dtype  \n",
      "---  ------                     --------------  -----  \n",
      " 0   long_hair                  3233 non-null   int64  \n",
      " 1   forehead_width_cm          3233 non-null   float64\n",
      " 2   forehead_height_cm         3233 non-null   float64\n",
      " 3   nose_wide                  3233 non-null   int64  \n",
      " 4   nose_long                  3233 non-null   int64  \n",
      " 5   lips_thin                  3233 non-null   int64  \n",
      " 6   distance_nose_to_lip_long  3233 non-null   int64  \n",
      " 7   gender                     3233 non-null   int32  \n",
      "dtypes: float64(2), int32(1), int64(5)\n",
      "memory usage: 214.7 KB\n"
     ]
    }
   ],
   "source": [
    "data.info()"
   ]
  },
  {
   "cell_type": "code",
   "execution_count": 12,
   "id": "410bd9fe",
   "metadata": {},
   "outputs": [],
   "source": [
    "x = data.iloc[:,:-1]\n",
    "y = data.iloc[:,-1]"
   ]
  },
  {
   "cell_type": "code",
   "execution_count": 13,
   "id": "6e1be775",
   "metadata": {
    "scrolled": true
   },
   "outputs": [
    {
     "data": {
      "image/png": "[encoded data removed]",
      "text/plain": [
       "<Figure size 640x480 with 1 Axes>"
      ]
     },
     "metadata": {},
     "output_type": "display_data"
    }
   ],
   "source": [
    "sns.countplot(data=data,x = y)\n",
    "plt.show()"
   ]
  },
  {
   "cell_type": "markdown",
   "id": "b954cb9c",
   "metadata": {},
   "source": [
    "### Balancing"
   ]
  },
  {
   "cell_type": "code",
   "execution_count": 14,
   "id": "315f8352",
   "metadata": {},
   "outputs": [],
   "source": [
    "ROS = RandomOverSampler()"
   ]
  },
  {
   "cell_type": "code",
   "execution_count": 15,
   "id": "0d4176d1",
   "metadata": {},
   "outputs": [],
   "source": [
    "x,y = ROS.fit_resample(x,y)"
   ]
  },
  {
   "cell_type": "code",
   "execution_count": 16,
   "id": "30222911",
   "metadata": {},
   "outputs": [
    {
     "data": {
      "image/png": "[encoded data removed]",
      "text/plain": [
       "<Figure size 640x480 with 1 Axes>"
      ]
     },
     "metadata": {},
     "output_type": "display_data"
    }
   ],
   "source": [
    "sns.countplot(data=data, x= y)\n",
    "plt.show()"
   ]
  },
  {
   "cell_type": "markdown",
   "id": "d97e2792",
   "metadata": {},
   "source": [
    "### Heatmap"
   ]
  },
  {
   "cell_type": "code",
   "execution_count": 17,
   "id": "347201b8",
   "metadata": {},
   "outputs": [
    {
     "data": {
      "image/png": "[encoded data removed]",
      "text/plain": [
       "<Figure size 640x480 with 2 Axes>"
      ]
     },
     "metadata": {},
     "output_type": "display_data"
    }
   ],
   "source": [
    "sns.heatmap(data.corr()[['gender']].sort_values(by = 'gender',ascending=False),vmax=1,vmin=-1,annot=True);"
   ]
  },
  {
   "cell_type": "code",
   "execution_count": 18,
   "id": "7b7b7de6",
   "metadata": {},
   "outputs": [],
   "source": [
    "sc = StandardScaler()"
   ]
  },
  {
   "cell_type": "code",
   "execution_count": 19,
   "id": "b373956d",
   "metadata": {},
   "outputs": [],
   "source": [
    "x = sc.fit_transform(x)"
   ]
  },
  {
   "cell_type": "code",
   "execution_count": 20,
   "id": "45c4422e",
   "metadata": {},
   "outputs": [],
   "source": [
    "x_train,x_test,y_train,y_test = train_test_split(x,y,test_size=0.2,random_state=42)"
   ]
  },
  {
   "cell_type": "markdown",
   "id": "de7e64c2",
   "metadata": {},
   "source": [
    "### Model Building"
   ]
  },
  {
   "cell_type": "code",
   "execution_count": 21,
   "id": "e73b7381",
   "metadata": {},
   "outputs": [],
   "source": [
    "model = Sequential()"
   ]
  },
  {
   "cell_type": "code",
   "execution_count": 22,
   "id": "feba9225",
   "metadata": {},
   "outputs": [],
   "source": [
    "model.add(Dense(128,activation='relu',input_dim = x_train.shape[1]))\n",
    "model.add(Dropout(0.2))\n",
    "model.add(Dense(128,activation='relu'))\n",
    "model.add(Dropout(0.2))\n",
    "model.add(Dense(1,activation ='sigmoid'))"
   ]
  },
  {
   "cell_type": "code",
   "execution_count": 23,
   "id": "ea46a04e",
   "metadata": {},
   "outputs": [
    {
     "name": "stdout",
     "output_type": "stream",
     "text": [
      "Model: \"sequential\"\n",
      "_________________________________________________________________\n",
      " Layer (type)                Output Shape              Param #   \n",
      "=================================================================\n",
      " dense (Dense)               (None, 128)               1024      \n",
      "                                                                 \n",
      " dropout (Dropout)           (None, 128)               0         \n",
      "                                                                 \n",
      " dense_1 (Dense)             (None, 128)               16512     \n",
      "                                                                 \n",
      " dropout_1 (Dropout)         (None, 128)               0         \n",
      "                                                                 \n",
      " dense_2 (Dense)             (None, 1)                 129       \n",
      "                                                                 \n",
      "=================================================================\n",
      "Total params: 17665 (69.00 KB)\n",
      "Trainable params: 17665 (69.00 KB)\n",
      "Non-trainable params: 0 (0.00 Byte)\n",
      "_________________________________________________________________\n"
     ]
    }
   ],
   "source": [
    "model.summary()"
   ]
  },
  {
   "cell_type": "markdown",
   "id": "b047d91f",
   "metadata": {},
   "source": [
    "### Compiling the model"
   ]
  },
  {
   "cell_type": "code",
   "execution_count": 24,
   "id": "f18ebdb5",
   "metadata": {},
   "outputs": [],
   "source": [
    "model.compile(optimizer='adam', loss = 'binary_crossentropy',metrics= ['accuracy'])"
   ]
  },
  {
   "cell_type": "markdown",
   "id": "ffedab22",
   "metadata": {},
   "source": [
    "### Define early stopping criteria"
   ]
  },
  {
   "cell_type": "code",
   "execution_count": 25,
   "id": "bf6abd2b",
   "metadata": {},
   "outputs": [],
   "source": [
    "early_stopping = EarlyStopping(monitor='val_loss',patience=30,restore_best_weights=True,verbose=1)"
   ]
  },
  {
   "cell_type": "markdown",
   "id": "30102a30",
   "metadata": {},
   "source": [
    "### Model Training"
   ]
  },
  {
   "cell_type": "code",
   "execution_count": 26,
   "id": "849e6042",
   "metadata": {},
   "outputs": [
    {
     "name": "stdout",
     "output_type": "stream",
     "text": [
      "Epoch 1/1000\n",
      "96/96 [==============================] - 1s 4ms/step - loss: 0.2112 - accuracy: 0.9390 - val_loss: 0.1134 - val_accuracy: 0.9454\n",
      "Epoch 2/1000\n",
      "96/96 [==============================] - 0s 2ms/step - loss: 0.1208 - accuracy: 0.9530 - val_loss: 0.1035 - val_accuracy: 0.9608\n",
      "Epoch 3/1000\n",
      "96/96 [==============================] - 0s 2ms/step - loss: 0.1178 - accuracy: 0.9530 - val_loss: 0.1176 - val_accuracy: 0.9440\n",
      "Epoch 4/1000\n",
      "96/96 [==============================] - 0s 2ms/step - loss: 0.1183 - accuracy: 0.9527 - val_loss: 0.1053 - val_accuracy: 0.9538\n",
      "Epoch 5/1000\n",
      "96/96 [==============================] - 0s 2ms/step - loss: 0.1177 - accuracy: 0.9548 - val_loss: 0.1054 - val_accuracy: 0.9524\n",
      "Epoch 6/1000\n",
      "96/96 [==============================] - 0s 2ms/step - loss: 0.1075 - accuracy: 0.9551 - val_loss: 0.1031 - val_accuracy: 0.9650\n",
      "Epoch 7/1000\n",
      "96/96 [==============================] - 0s 2ms/step - loss: 0.1093 - accuracy: 0.9565 - val_loss: 0.1036 - val_accuracy: 0.9608\n",
      "Epoch 8/1000\n",
      "96/96 [==============================] - 0s 2ms/step - loss: 0.1111 - accuracy: 0.9572 - val_loss: 0.1010 - val_accuracy: 0.9608\n",
      "Epoch 9/1000\n",
      "96/96 [==============================] - 0s 2ms/step - loss: 0.1089 - accuracy: 0.9572 - val_loss: 0.0978 - val_accuracy: 0.9650\n",
      "Epoch 10/1000\n",
      "96/96 [==============================] - 0s 2ms/step - loss: 0.1100 - accuracy: 0.9541 - val_loss: 0.0995 - val_accuracy: 0.9650\n",
      "Epoch 11/1000\n",
      "96/96 [==============================] - 0s 2ms/step - loss: 0.1031 - accuracy: 0.9604 - val_loss: 0.0996 - val_accuracy: 0.9622\n",
      "Epoch 12/1000\n",
      "96/96 [==============================] - 0s 2ms/step - loss: 0.1061 - accuracy: 0.9562 - val_loss: 0.0977 - val_accuracy: 0.9636\n",
      "Epoch 13/1000\n",
      "96/96 [==============================] - 0s 2ms/step - loss: 0.1040 - accuracy: 0.9565 - val_loss: 0.1009 - val_accuracy: 0.9608\n",
      "Epoch 14/1000\n",
      "96/96 [==============================] - 0s 2ms/step - loss: 0.1022 - accuracy: 0.9579 - val_loss: 0.0958 - val_accuracy: 0.9664\n",
      "Epoch 15/1000\n",
      "96/96 [==============================] - 0s 2ms/step - loss: 0.1076 - accuracy: 0.9576 - val_loss: 0.0980 - val_accuracy: 0.9608\n",
      "Epoch 16/1000\n",
      "96/96 [==============================] - 0s 2ms/step - loss: 0.1025 - accuracy: 0.9600 - val_loss: 0.1035 - val_accuracy: 0.9566\n",
      "Epoch 17/1000\n",
      "96/96 [==============================] - 0s 2ms/step - loss: 0.1014 - accuracy: 0.9597 - val_loss: 0.1029 - val_accuracy: 0.9594\n",
      "Epoch 18/1000\n",
      "96/96 [==============================] - 0s 2ms/step - loss: 0.1004 - accuracy: 0.9614 - val_loss: 0.1003 - val_accuracy: 0.9636\n",
      "Epoch 19/1000\n",
      "96/96 [==============================] - 0s 2ms/step - loss: 0.0976 - accuracy: 0.9593 - val_loss: 0.0959 - val_accuracy: 0.9636\n",
      "Epoch 20/1000\n",
      "96/96 [==============================] - 0s 2ms/step - loss: 0.0997 - accuracy: 0.9618 - val_loss: 0.1041 - val_accuracy: 0.9622\n",
      "Epoch 21/1000\n",
      "96/96 [==============================] - 0s 2ms/step - loss: 0.0979 - accuracy: 0.9597 - val_loss: 0.0958 - val_accuracy: 0.9636\n",
      "Epoch 22/1000\n",
      "96/96 [==============================] - 0s 2ms/step - loss: 0.0984 - accuracy: 0.9621 - val_loss: 0.0947 - val_accuracy: 0.9650\n",
      "Epoch 23/1000\n",
      "96/96 [==============================] - 0s 2ms/step - loss: 0.0970 - accuracy: 0.9611 - val_loss: 0.0905 - val_accuracy: 0.9664\n",
      "Epoch 24/1000\n",
      "96/96 [==============================] - 0s 2ms/step - loss: 0.0973 - accuracy: 0.9600 - val_loss: 0.0916 - val_accuracy: 0.9678\n",
      "Epoch 25/1000\n",
      "96/96 [==============================] - 0s 2ms/step - loss: 0.0971 - accuracy: 0.9621 - val_loss: 0.0924 - val_accuracy: 0.9636\n",
      "Epoch 26/1000\n",
      "96/96 [==============================] - 0s 2ms/step - loss: 0.0972 - accuracy: 0.9635 - val_loss: 0.0939 - val_accuracy: 0.9650\n",
      "Epoch 27/1000\n",
      "96/96 [==============================] - 0s 2ms/step - loss: 0.0913 - accuracy: 0.9639 - val_loss: 0.0890 - val_accuracy: 0.9650\n",
      "Epoch 28/1000\n",
      "96/96 [==============================] - 0s 2ms/step - loss: 0.0951 - accuracy: 0.9597 - val_loss: 0.0935 - val_accuracy: 0.9636\n",
      "Epoch 29/1000\n",
      "96/96 [==============================] - 0s 2ms/step - loss: 0.0919 - accuracy: 0.9635 - val_loss: 0.0905 - val_accuracy: 0.9678\n",
      "Epoch 30/1000\n",
      "96/96 [==============================] - 0s 2ms/step - loss: 0.0946 - accuracy: 0.9614 - val_loss: 0.0933 - val_accuracy: 0.9650\n",
      "Epoch 31/1000\n",
      "96/96 [==============================] - 0s 2ms/step - loss: 0.0921 - accuracy: 0.9618 - val_loss: 0.0918 - val_accuracy: 0.9636\n",
      "Epoch 32/1000\n",
      "96/96 [==============================] - 0s 2ms/step - loss: 0.0926 - accuracy: 0.9628 - val_loss: 0.0896 - val_accuracy: 0.9650\n",
      "Epoch 33/1000\n",
      "96/96 [==============================] - 0s 2ms/step - loss: 0.0936 - accuracy: 0.9611 - val_loss: 0.0927 - val_accuracy: 0.9636\n",
      "Epoch 34/1000\n",
      "96/96 [==============================] - 0s 2ms/step - loss: 0.0896 - accuracy: 0.9639 - val_loss: 0.0902 - val_accuracy: 0.9650\n",
      "Epoch 35/1000\n",
      "96/96 [==============================] - 0s 2ms/step - loss: 0.0883 - accuracy: 0.9635 - val_loss: 0.0895 - val_accuracy: 0.9678\n",
      "Epoch 36/1000\n",
      "96/96 [==============================] - 0s 2ms/step - loss: 0.0890 - accuracy: 0.9653 - val_loss: 0.0909 - val_accuracy: 0.9664\n",
      "Epoch 37/1000\n",
      "96/96 [==============================] - 0s 2ms/step - loss: 0.0889 - accuracy: 0.9632 - val_loss: 0.0919 - val_accuracy: 0.9664\n",
      "Epoch 38/1000\n",
      "96/96 [==============================] - 0s 2ms/step - loss: 0.0856 - accuracy: 0.9646 - val_loss: 0.0900 - val_accuracy: 0.9706\n",
      "Epoch 39/1000\n",
      "96/96 [==============================] - 0s 2ms/step - loss: 0.0882 - accuracy: 0.9639 - val_loss: 0.0893 - val_accuracy: 0.9692\n",
      "Epoch 40/1000\n",
      "96/96 [==============================] - 0s 2ms/step - loss: 0.0862 - accuracy: 0.9649 - val_loss: 0.0913 - val_accuracy: 0.9650\n",
      "Epoch 41/1000\n",
      "96/96 [==============================] - 0s 2ms/step - loss: 0.0864 - accuracy: 0.9656 - val_loss: 0.0900 - val_accuracy: 0.9678\n",
      "Epoch 42/1000\n",
      "96/96 [==============================] - 0s 2ms/step - loss: 0.0918 - accuracy: 0.9607 - val_loss: 0.0890 - val_accuracy: 0.9650\n",
      "Epoch 43/1000\n",
      "96/96 [==============================] - 0s 2ms/step - loss: 0.0824 - accuracy: 0.9660 - val_loss: 0.0911 - val_accuracy: 0.9650\n",
      "Epoch 44/1000\n",
      "96/96 [==============================] - 0s 2ms/step - loss: 0.0841 - accuracy: 0.9646 - val_loss: 0.0924 - val_accuracy: 0.9636\n",
      "Epoch 45/1000\n",
      "96/96 [==============================] - 0s 2ms/step - loss: 0.0844 - accuracy: 0.9653 - val_loss: 0.0908 - val_accuracy: 0.9650\n",
      "Epoch 46/1000\n",
      "96/96 [==============================] - 0s 2ms/step - loss: 0.0829 - accuracy: 0.9674 - val_loss: 0.0914 - val_accuracy: 0.9636\n",
      "Epoch 47/1000\n",
      "96/96 [==============================] - 0s 2ms/step - loss: 0.0806 - accuracy: 0.9663 - val_loss: 0.0898 - val_accuracy: 0.9678\n",
      "Epoch 48/1000\n",
      "96/96 [==============================] - 0s 2ms/step - loss: 0.0849 - accuracy: 0.9656 - val_loss: 0.0901 - val_accuracy: 0.9664\n",
      "Epoch 49/1000\n",
      "96/96 [==============================] - 0s 2ms/step - loss: 0.0844 - accuracy: 0.9628 - val_loss: 0.0936 - val_accuracy: 0.9636\n",
      "Epoch 50/1000\n",
      "96/96 [==============================] - 0s 2ms/step - loss: 0.0809 - accuracy: 0.9656 - val_loss: 0.0907 - val_accuracy: 0.9706\n",
      "Epoch 51/1000\n",
      "96/96 [==============================] - 0s 2ms/step - loss: 0.0812 - accuracy: 0.9670 - val_loss: 0.0905 - val_accuracy: 0.9664\n",
      "Epoch 52/1000\n",
      "96/96 [==============================] - 0s 2ms/step - loss: 0.0827 - accuracy: 0.9695 - val_loss: 0.0928 - val_accuracy: 0.9650\n",
      "Epoch 53/1000\n",
      "96/96 [==============================] - 0s 2ms/step - loss: 0.0812 - accuracy: 0.9674 - val_loss: 0.0914 - val_accuracy: 0.9664\n",
      "Epoch 54/1000\n",
      "96/96 [==============================] - 0s 2ms/step - loss: 0.0793 - accuracy: 0.9653 - val_loss: 0.0930 - val_accuracy: 0.9650\n",
      "Epoch 55/1000\n",
      "96/96 [==============================] - 0s 2ms/step - loss: 0.0795 - accuracy: 0.9677 - val_loss: 0.0953 - val_accuracy: 0.9622\n",
      "Epoch 56/1000\n",
      "96/96 [==============================] - 0s 2ms/step - loss: 0.0811 - accuracy: 0.9660 - val_loss: 0.0959 - val_accuracy: 0.9580\n",
      "Epoch 57/1000\n",
      "96/96 [==============================] - 0s 2ms/step - loss: 0.0793 - accuracy: 0.9656 - val_loss: 0.0959 - val_accuracy: 0.9622\n",
      "Epoch 58/1000\n"
     ]
    },
    {
     "name": "stdout",
     "output_type": "stream",
     "text": [
      "96/96 [==============================] - 0s 2ms/step - loss: 0.0804 - accuracy: 0.9653 - val_loss: 0.0958 - val_accuracy: 0.9692\n",
      "Epoch 59/1000\n",
      "96/96 [==============================] - 0s 2ms/step - loss: 0.0816 - accuracy: 0.9656 - val_loss: 0.0935 - val_accuracy: 0.9706\n",
      "Epoch 60/1000\n",
      "96/96 [==============================] - 0s 2ms/step - loss: 0.0788 - accuracy: 0.9695 - val_loss: 0.0992 - val_accuracy: 0.9622\n",
      "Epoch 61/1000\n",
      "96/96 [==============================] - 0s 2ms/step - loss: 0.0774 - accuracy: 0.9660 - val_loss: 0.0974 - val_accuracy: 0.9608\n",
      "Epoch 62/1000\n",
      "96/96 [==============================] - 0s 2ms/step - loss: 0.0800 - accuracy: 0.9684 - val_loss: 0.0939 - val_accuracy: 0.9622\n",
      "Epoch 63/1000\n",
      "96/96 [==============================] - 0s 2ms/step - loss: 0.0772 - accuracy: 0.9695 - val_loss: 0.0951 - val_accuracy: 0.9594\n",
      "Epoch 64/1000\n",
      "96/96 [==============================] - 0s 2ms/step - loss: 0.0780 - accuracy: 0.9674 - val_loss: 0.0967 - val_accuracy: 0.9594\n",
      "Epoch 65/1000\n",
      "96/96 [==============================] - 0s 2ms/step - loss: 0.0762 - accuracy: 0.9653 - val_loss: 0.0913 - val_accuracy: 0.9678\n",
      "Epoch 66/1000\n",
      "96/96 [==============================] - 0s 2ms/step - loss: 0.0761 - accuracy: 0.9684 - val_loss: 0.0982 - val_accuracy: 0.9594\n",
      "Epoch 67/1000\n",
      "96/96 [==============================] - 0s 2ms/step - loss: 0.0758 - accuracy: 0.9674 - val_loss: 0.0984 - val_accuracy: 0.9608\n",
      "Epoch 68/1000\n",
      "96/96 [==============================] - 0s 2ms/step - loss: 0.0728 - accuracy: 0.9670 - val_loss: 0.0994 - val_accuracy: 0.9636\n",
      "Epoch 69/1000\n",
      "96/96 [==============================] - 0s 2ms/step - loss: 0.0781 - accuracy: 0.9649 - val_loss: 0.0994 - val_accuracy: 0.9636\n",
      "Epoch 70/1000\n",
      "96/96 [==============================] - 0s 2ms/step - loss: 0.0760 - accuracy: 0.9677 - val_loss: 0.0960 - val_accuracy: 0.9706\n",
      "Epoch 71/1000\n",
      "96/96 [==============================] - 0s 2ms/step - loss: 0.0782 - accuracy: 0.9656 - val_loss: 0.0966 - val_accuracy: 0.9664\n",
      "Epoch 72/1000\n",
      "75/96 [======================>.......] - ETA: 0s - loss: 0.0761 - accuracy: 0.9698Restoring model weights from the end of the best epoch: 42.\n",
      "96/96 [==============================] - 0s 2ms/step - loss: 0.0750 - accuracy: 0.9677 - val_loss: 0.1019 - val_accuracy: 0.9650\n",
      "Epoch 72: early stopping\n"
     ]
    }
   ],
   "source": [
    "history = model.fit(x_train,y_train,batch_size=30,callbacks=[early_stopping],epochs=1000,validation_data=(x_test,y_test),shuffle=True)"
   ]
  },
  {
   "cell_type": "markdown",
   "id": "20aef5cf",
   "metadata": {},
   "source": [
    "### Evaluating the model"
   ]
  },
  {
   "cell_type": "code",
   "execution_count": 27,
   "id": "ca846342",
   "metadata": {},
   "outputs": [],
   "source": [
    "history_dict = history.history"
   ]
  },
  {
   "cell_type": "markdown",
   "id": "1c67ba67",
   "metadata": {},
   "source": [
    "### 1. Learning curve"
   ]
  },
  {
   "cell_type": "code",
   "execution_count": 28,
   "id": "f7381b3c",
   "metadata": {},
   "outputs": [],
   "source": [
    "acc = history_dict['accuracy']\n",
    "val_acc = history_dict['val_accuracy']"
   ]
  },
  {
   "cell_type": "markdown",
   "id": "a481c4bc",
   "metadata": {},
   "source": [
    "### 2. Loss"
   ]
  },
  {
   "cell_type": "code",
   "execution_count": 29,
   "id": "cd1bf82a",
   "metadata": {},
   "outputs": [],
   "source": [
    "loss = history_dict['loss']\n",
    "val_loss = history_dict['val_loss']"
   ]
  },
  {
   "cell_type": "markdown",
   "id": "88d2e0c8",
   "metadata": {},
   "source": [
    "### 3. Range of x or number of epochs in the graph"
   ]
  },
  {
   "cell_type": "code",
   "execution_count": 30,
   "id": "1d67253b",
   "metadata": {},
   "outputs": [],
   "source": [
    "epochs = range(1,len(acc)+1)"
   ]
  },
  {
   "cell_type": "markdown",
   "id": "25f8fd6d",
   "metadata": {},
   "source": [
    "### 4.Plot"
   ]
  },
  {
   "cell_type": "code",
   "execution_count": 31,
   "id": "a962bbd6",
   "metadata": {},
   "outputs": [
    {
     "data": {
      "image/png": "[encoded data removed]",
      "text/plain": [
       "<Figure size 640x480 with 1 Axes>"
      ]
     },
     "metadata": {},
     "output_type": "display_data"
    }
   ],
   "source": [
    "plt.plot(epochs, acc, 'r', label = \"Training Accuracy\")\n",
    "plt.plot(epochs, val_acc, 'b', label = \"Validation Accuracy\")\n",
    "plt.title(\"Training and Validation accuracies\")\n",
    "plt.xlabel('Epochs')\n",
    "plt.ylabel('Accuracy')\n",
    "plt.legend()\n",
    "plt.show()"
   ]
  },
  {
   "cell_type": "code",
   "execution_count": 32,
   "id": "ad330fe5",
   "metadata": {},
   "outputs": [
    {
     "name": "stdout",
     "output_type": "stream",
     "text": [
      "23/23 [==============================] - 0s 874us/step\n"
     ]
    }
   ],
   "source": [
    "y_pred = model.predict(x_test)"
   ]
  },
  {
   "cell_type": "code",
   "execution_count": 33,
   "id": "fd32b669",
   "metadata": {},
   "outputs": [],
   "source": [
    "y_pred = (y_pred>0.5)"
   ]
  },
  {
   "cell_type": "code",
   "execution_count": 34,
   "id": "7ca7cd05",
   "metadata": {},
   "outputs": [
    {
     "data": {
      "text/plain": [
       "array([[366,  10],\n",
       "       [ 15, 323]], dtype=int64)"
      ]
     },
     "execution_count": 34,
     "metadata": {},
     "output_type": "execute_result"
    }
   ],
   "source": [
    "matrix = confusion_matrix(y_test,y_pred)\n",
    "matrix"
   ]
  },
  {
   "cell_type": "code",
   "execution_count": 35,
   "id": "6149b8e1",
   "metadata": {},
   "outputs": [
    {
     "data": {
      "image/png": "[encoded data removed]",
      "text/plain": [
       "<Figure size 640x480 with 2 Axes>"
      ]
     },
     "metadata": {},
     "output_type": "display_data"
    }
   ],
   "source": [
    "sns.heatmap(matrix,annot=True);"
   ]
  },
  {
   "cell_type": "markdown",
   "id": "58ca6dfb",
   "metadata": {},
   "source": [
    "### Classification Report\n",
    "A classification report is a tool used in machine learning to evaluate the performance of a classification\n",
    "model. It provides a summary of various metrics that describe the model's performance, such as\n",
    "precision, recall, and F1-score"
   ]
  },
  {
   "cell_type": "code",
   "execution_count": null,
   "id": "f7261f4c",
   "metadata": {},
   "outputs": [],
   "source": []
  }
 ],
 "metadata": {
  "kernelspec": {
   "display_name": "Python 3 (ipykernel)",
   "language": "python",
   "name": "python3"
  },
  "language_info": {
   "codemirror_mode": {
    "name": "ipython",
    "version": 3
   },
   "file_extension": ".py",
   "mimetype": "text/x-python",
   "name": "python",
   "nbconvert_exporter": "python",
   "pygments_lexer": "ipython3",
   "version": "3.9.13"
  }
 },
 "nbformat": 4,
 "nbformat_minor": 5
}
