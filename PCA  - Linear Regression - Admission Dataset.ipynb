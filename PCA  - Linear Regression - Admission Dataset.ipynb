{
 "cells": [
  {
   "cell_type": "markdown",
   "id": "7f57df99",
   "metadata": {},
   "source": [
    "## <center>PCA in Linear Regression"
   ]
  },
  {
   "cell_type": "code",
   "execution_count": 1,
   "id": "43eb2df9",
   "metadata": {},
   "outputs": [],
   "source": [
    "import pandas as pd\n",
    "import numpy as np\n",
    "import matplotlib.pyplot as plt\n",
    "import seaborn as sns\n",
    "from sklearn.preprocessing import LabelEncoder, StandardScaler\n",
    "from sklearn.decomposition import PCA\n",
    "from sklearn.model_selection import train_test_split\n",
    "from sklearn.linear_model import LinearRegression, Ridge, Lasso\n",
    "from sklearn.tree import DecisionTreeRegressor\n",
    "from sklearn.ensemble import AdaBoostRegressor, GradientBoostingRegressor, RandomForestRegressor\n",
    "from sklearn.svm import SVR, LinearSVR\n",
    "from sklearn.metrics import r2_score, mean_absolute_error, mean_squared_error\n",
    "import warnings\n",
    "warnings.filterwarnings('ignore')"
   ]
  },
  {
   "cell_type": "code",
   "execution_count": 2,
   "id": "0d98f006",
   "metadata": {},
   "outputs": [],
   "source": [
    "data = pd.read_csv('./Admission_Predict_Ver1.1.csv')"
   ]
  },
  {
   "cell_type": "code",
   "execution_count": 3,
   "id": "fce24d90",
   "metadata": {},
   "outputs": [
    {
     "data": {
      "text/html": [
       "<div>\n",
       "<style scoped>\n",
       "    .dataframe tbody tr th:only-of-type {\n",
       "        vertical-align: middle;\n",
       "    }\n",
       "\n",
       "    .dataframe tbody tr th {\n",
       "        vertical-align: top;\n",
       "    }\n",
       "\n",
       "    .dataframe thead th {\n",
       "        text-align: right;\n",
       "    }\n",
       "</style>\n",
       "<table border=\"1\" class=\"dataframe\">\n",
       "  <thead>\n",
       "    <tr style=\"text-align: right;\">\n",
       "      <th></th>\n",
       "      <th>Serial No.</th>\n",
       "      <th>GRE Score</th>\n",
       "      <th>TOEFL Score</th>\n",
       "      <th>University Rating</th>\n",
       "      <th>SOP</th>\n",
       "      <th>LOR</th>\n",
       "      <th>CGPA</th>\n",
       "      <th>Research</th>\n",
       "      <th>Chance of Admit</th>\n",
       "    </tr>\n",
       "  </thead>\n",
       "  <tbody>\n",
       "    <tr>\n",
       "      <th>0</th>\n",
       "      <td>1</td>\n",
       "      <td>337</td>\n",
       "      <td>118</td>\n",
       "      <td>4</td>\n",
       "      <td>4.5</td>\n",
       "      <td>4.5</td>\n",
       "      <td>9.65</td>\n",
       "      <td>1</td>\n",
       "      <td>0.92</td>\n",
       "    </tr>\n",
       "    <tr>\n",
       "      <th>1</th>\n",
       "      <td>2</td>\n",
       "      <td>324</td>\n",
       "      <td>107</td>\n",
       "      <td>4</td>\n",
       "      <td>4.0</td>\n",
       "      <td>4.5</td>\n",
       "      <td>8.87</td>\n",
       "      <td>1</td>\n",
       "      <td>0.76</td>\n",
       "    </tr>\n",
       "    <tr>\n",
       "      <th>2</th>\n",
       "      <td>3</td>\n",
       "      <td>316</td>\n",
       "      <td>104</td>\n",
       "      <td>3</td>\n",
       "      <td>3.0</td>\n",
       "      <td>3.5</td>\n",
       "      <td>8.00</td>\n",
       "      <td>1</td>\n",
       "      <td>0.72</td>\n",
       "    </tr>\n",
       "    <tr>\n",
       "      <th>3</th>\n",
       "      <td>4</td>\n",
       "      <td>322</td>\n",
       "      <td>110</td>\n",
       "      <td>3</td>\n",
       "      <td>3.5</td>\n",
       "      <td>2.5</td>\n",
       "      <td>8.67</td>\n",
       "      <td>1</td>\n",
       "      <td>0.80</td>\n",
       "    </tr>\n",
       "    <tr>\n",
       "      <th>4</th>\n",
       "      <td>5</td>\n",
       "      <td>314</td>\n",
       "      <td>103</td>\n",
       "      <td>2</td>\n",
       "      <td>2.0</td>\n",
       "      <td>3.0</td>\n",
       "      <td>8.21</td>\n",
       "      <td>0</td>\n",
       "      <td>0.65</td>\n",
       "    </tr>\n",
       "  </tbody>\n",
       "</table>\n",
       "</div>"
      ],
      "text/plain": [
       "   Serial No.  GRE Score  TOEFL Score  University Rating  SOP  LOR   CGPA  \\\n",
       "0           1        337          118                  4  4.5   4.5  9.65   \n",
       "1           2        324          107                  4  4.0   4.5  8.87   \n",
       "2           3        316          104                  3  3.0   3.5  8.00   \n",
       "3           4        322          110                  3  3.5   2.5  8.67   \n",
       "4           5        314          103                  2  2.0   3.0  8.21   \n",
       "\n",
       "   Research  Chance of Admit   \n",
       "0         1              0.92  \n",
       "1         1              0.76  \n",
       "2         1              0.72  \n",
       "3         1              0.80  \n",
       "4         0              0.65  "
      ]
     },
     "execution_count": 3,
     "metadata": {},
     "output_type": "execute_result"
    }
   ],
   "source": [
    "data.head(5)"
   ]
  },
  {
   "cell_type": "code",
   "execution_count": 4,
   "id": "c0f64950",
   "metadata": {},
   "outputs": [
    {
     "name": "stdout",
     "output_type": "stream",
     "text": [
      "<class 'pandas.core.frame.DataFrame'>\n",
      "RangeIndex: 500 entries, 0 to 499\n",
      "Data columns (total 9 columns):\n",
      " #   Column             Non-Null Count  Dtype  \n",
      "---  ------             --------------  -----  \n",
      " 0   Serial No.         500 non-null    int64  \n",
      " 1   GRE Score          500 non-null    int64  \n",
      " 2   TOEFL Score        500 non-null    int64  \n",
      " 3   University Rating  500 non-null    int64  \n",
      " 4   SOP                500 non-null    float64\n",
      " 5   LOR                500 non-null    float64\n",
      " 6   CGPA               500 non-null    float64\n",
      " 7   Research           500 non-null    int64  \n",
      " 8   Chance of Admit    500 non-null    float64\n",
      "dtypes: float64(4), int64(5)\n",
      "memory usage: 35.3 KB\n"
     ]
    }
   ],
   "source": [
    "data.info()"
   ]
  },
  {
   "cell_type": "code",
   "execution_count": 5,
   "id": "7380c809",
   "metadata": {},
   "outputs": [
    {
     "data": {
      "text/html": [
       "<div>\n",
       "<style scoped>\n",
       "    .dataframe tbody tr th:only-of-type {\n",
       "        vertical-align: middle;\n",
       "    }\n",
       "\n",
       "    .dataframe tbody tr th {\n",
       "        vertical-align: top;\n",
       "    }\n",
       "\n",
       "    .dataframe thead th {\n",
       "        text-align: right;\n",
       "    }\n",
       "</style>\n",
       "<table border=\"1\" class=\"dataframe\">\n",
       "  <thead>\n",
       "    <tr style=\"text-align: right;\">\n",
       "      <th></th>\n",
       "      <th>Serial No.</th>\n",
       "      <th>GRE Score</th>\n",
       "      <th>TOEFL Score</th>\n",
       "      <th>University Rating</th>\n",
       "      <th>SOP</th>\n",
       "      <th>LOR</th>\n",
       "      <th>CGPA</th>\n",
       "      <th>Research</th>\n",
       "      <th>Chance of Admit</th>\n",
       "    </tr>\n",
       "  </thead>\n",
       "  <tbody>\n",
       "    <tr>\n",
       "      <th>count</th>\n",
       "      <td>500.000000</td>\n",
       "      <td>500.000000</td>\n",
       "      <td>500.000000</td>\n",
       "      <td>500.000000</td>\n",
       "      <td>500.000000</td>\n",
       "      <td>500.00000</td>\n",
       "      <td>500.000000</td>\n",
       "      <td>500.000000</td>\n",
       "      <td>500.00000</td>\n",
       "    </tr>\n",
       "    <tr>\n",
       "      <th>mean</th>\n",
       "      <td>250.500000</td>\n",
       "      <td>316.472000</td>\n",
       "      <td>107.192000</td>\n",
       "      <td>3.114000</td>\n",
       "      <td>3.374000</td>\n",
       "      <td>3.48400</td>\n",
       "      <td>8.576440</td>\n",
       "      <td>0.560000</td>\n",
       "      <td>0.72174</td>\n",
       "    </tr>\n",
       "    <tr>\n",
       "      <th>std</th>\n",
       "      <td>144.481833</td>\n",
       "      <td>11.295148</td>\n",
       "      <td>6.081868</td>\n",
       "      <td>1.143512</td>\n",
       "      <td>0.991004</td>\n",
       "      <td>0.92545</td>\n",
       "      <td>0.604813</td>\n",
       "      <td>0.496884</td>\n",
       "      <td>0.14114</td>\n",
       "    </tr>\n",
       "    <tr>\n",
       "      <th>min</th>\n",
       "      <td>1.000000</td>\n",
       "      <td>290.000000</td>\n",
       "      <td>92.000000</td>\n",
       "      <td>1.000000</td>\n",
       "      <td>1.000000</td>\n",
       "      <td>1.00000</td>\n",
       "      <td>6.800000</td>\n",
       "      <td>0.000000</td>\n",
       "      <td>0.34000</td>\n",
       "    </tr>\n",
       "    <tr>\n",
       "      <th>25%</th>\n",
       "      <td>125.750000</td>\n",
       "      <td>308.000000</td>\n",
       "      <td>103.000000</td>\n",
       "      <td>2.000000</td>\n",
       "      <td>2.500000</td>\n",
       "      <td>3.00000</td>\n",
       "      <td>8.127500</td>\n",
       "      <td>0.000000</td>\n",
       "      <td>0.63000</td>\n",
       "    </tr>\n",
       "    <tr>\n",
       "      <th>50%</th>\n",
       "      <td>250.500000</td>\n",
       "      <td>317.000000</td>\n",
       "      <td>107.000000</td>\n",
       "      <td>3.000000</td>\n",
       "      <td>3.500000</td>\n",
       "      <td>3.50000</td>\n",
       "      <td>8.560000</td>\n",
       "      <td>1.000000</td>\n",
       "      <td>0.72000</td>\n",
       "    </tr>\n",
       "    <tr>\n",
       "      <th>75%</th>\n",
       "      <td>375.250000</td>\n",
       "      <td>325.000000</td>\n",
       "      <td>112.000000</td>\n",
       "      <td>4.000000</td>\n",
       "      <td>4.000000</td>\n",
       "      <td>4.00000</td>\n",
       "      <td>9.040000</td>\n",
       "      <td>1.000000</td>\n",
       "      <td>0.82000</td>\n",
       "    </tr>\n",
       "    <tr>\n",
       "      <th>max</th>\n",
       "      <td>500.000000</td>\n",
       "      <td>340.000000</td>\n",
       "      <td>120.000000</td>\n",
       "      <td>5.000000</td>\n",
       "      <td>5.000000</td>\n",
       "      <td>5.00000</td>\n",
       "      <td>9.920000</td>\n",
       "      <td>1.000000</td>\n",
       "      <td>0.97000</td>\n",
       "    </tr>\n",
       "  </tbody>\n",
       "</table>\n",
       "</div>"
      ],
      "text/plain": [
       "       Serial No.   GRE Score  TOEFL Score  University Rating         SOP  \\\n",
       "count  500.000000  500.000000   500.000000         500.000000  500.000000   \n",
       "mean   250.500000  316.472000   107.192000           3.114000    3.374000   \n",
       "std    144.481833   11.295148     6.081868           1.143512    0.991004   \n",
       "min      1.000000  290.000000    92.000000           1.000000    1.000000   \n",
       "25%    125.750000  308.000000   103.000000           2.000000    2.500000   \n",
       "50%    250.500000  317.000000   107.000000           3.000000    3.500000   \n",
       "75%    375.250000  325.000000   112.000000           4.000000    4.000000   \n",
       "max    500.000000  340.000000   120.000000           5.000000    5.000000   \n",
       "\n",
       "            LOR         CGPA    Research  Chance of Admit   \n",
       "count  500.00000  500.000000  500.000000         500.00000  \n",
       "mean     3.48400    8.576440    0.560000           0.72174  \n",
       "std      0.92545    0.604813    0.496884           0.14114  \n",
       "min      1.00000    6.800000    0.000000           0.34000  \n",
       "25%      3.00000    8.127500    0.000000           0.63000  \n",
       "50%      3.50000    8.560000    1.000000           0.72000  \n",
       "75%      4.00000    9.040000    1.000000           0.82000  \n",
       "max      5.00000    9.920000    1.000000           0.97000  "
      ]
     },
     "execution_count": 5,
     "metadata": {},
     "output_type": "execute_result"
    }
   ],
   "source": [
    "data.describe()"
   ]
  },
  {
   "cell_type": "code",
   "execution_count": 6,
   "id": "c2872244",
   "metadata": {},
   "outputs": [
    {
     "data": {
      "text/plain": [
       "(500, 9)"
      ]
     },
     "execution_count": 6,
     "metadata": {},
     "output_type": "execute_result"
    }
   ],
   "source": [
    "data.shape"
   ]
  },
  {
   "cell_type": "code",
   "execution_count": 7,
   "id": "7da26e7a",
   "metadata": {},
   "outputs": [
    {
     "data": {
      "text/plain": [
       "Serial No.           0.0\n",
       "GRE Score            0.0\n",
       "TOEFL Score          0.0\n",
       "University Rating    0.0\n",
       "SOP                  0.0\n",
       "LOR                  0.0\n",
       "CGPA                 0.0\n",
       "Research             0.0\n",
       "Chance of Admit      0.0\n",
       "dtype: float64"
      ]
     },
     "execution_count": 7,
     "metadata": {},
     "output_type": "execute_result"
    }
   ],
   "source": [
    "data.isnull().mean()*100"
   ]
  },
  {
   "cell_type": "code",
   "execution_count": 8,
   "id": "3055795e",
   "metadata": {},
   "outputs": [
    {
     "data": {
      "text/plain": [
       "0"
      ]
     },
     "execution_count": 8,
     "metadata": {},
     "output_type": "execute_result"
    }
   ],
   "source": [
    "data.duplicated().sum()"
   ]
  },
  {
   "cell_type": "code",
   "execution_count": 9,
   "id": "84a5b3b1",
   "metadata": {
    "scrolled": true
   },
   "outputs": [
    {
     "data": {
      "text/plain": [
       "Index(['Serial No.', 'GRE Score', 'TOEFL Score', 'University Rating', 'SOP',\n",
       "       'LOR ', 'CGPA', 'Research', 'Chance of Admit '],\n",
       "      dtype='object')"
      ]
     },
     "execution_count": 9,
     "metadata": {},
     "output_type": "execute_result"
    }
   ],
   "source": [
    "data.columns"
   ]
  },
  {
   "cell_type": "code",
   "execution_count": 10,
   "id": "a7c81049",
   "metadata": {},
   "outputs": [],
   "source": [
    "data.rename(columns={'Serial No':'SerialNo','GRE Score':'GREScore','TOEFL Score':'TOEFLScore','University Rating':'UniversityRating','Chance of Admit ':'Chance_of_Admit'},inplace=True)"
   ]
  },
  {
   "cell_type": "code",
   "execution_count": 11,
   "id": "817b31bb",
   "metadata": {},
   "outputs": [
    {
     "data": {
      "text/html": [
       "<div>\n",
       "<style scoped>\n",
       "    .dataframe tbody tr th:only-of-type {\n",
       "        vertical-align: middle;\n",
       "    }\n",
       "\n",
       "    .dataframe tbody tr th {\n",
       "        vertical-align: top;\n",
       "    }\n",
       "\n",
       "    .dataframe thead th {\n",
       "        text-align: right;\n",
       "    }\n",
       "</style>\n",
       "<table border=\"1\" class=\"dataframe\">\n",
       "  <thead>\n",
       "    <tr style=\"text-align: right;\">\n",
       "      <th></th>\n",
       "      <th>Serial No.</th>\n",
       "      <th>GREScore</th>\n",
       "      <th>TOEFLScore</th>\n",
       "      <th>UniversityRating</th>\n",
       "      <th>SOP</th>\n",
       "      <th>LOR</th>\n",
       "      <th>CGPA</th>\n",
       "      <th>Research</th>\n",
       "      <th>Chance_of_Admit</th>\n",
       "    </tr>\n",
       "  </thead>\n",
       "  <tbody>\n",
       "    <tr>\n",
       "      <th>360</th>\n",
       "      <td>361</td>\n",
       "      <td>322</td>\n",
       "      <td>110</td>\n",
       "      <td>3</td>\n",
       "      <td>4.0</td>\n",
       "      <td>5.0</td>\n",
       "      <td>8.64</td>\n",
       "      <td>1</td>\n",
       "      <td>0.85</td>\n",
       "    </tr>\n",
       "  </tbody>\n",
       "</table>\n",
       "</div>"
      ],
      "text/plain": [
       "     Serial No.  GREScore  TOEFLScore  UniversityRating  SOP  LOR   CGPA  \\\n",
       "360         361       322         110                 3  4.0   5.0  8.64   \n",
       "\n",
       "     Research  Chance_of_Admit  \n",
       "360         1             0.85  "
      ]
     },
     "execution_count": 11,
     "metadata": {},
     "output_type": "execute_result"
    }
   ],
   "source": [
    "data.sample()"
   ]
  },
  {
   "cell_type": "code",
   "execution_count": 12,
   "id": "fa7ad564",
   "metadata": {},
   "outputs": [],
   "source": [
    "data.drop(columns='Serial No.', inplace=True)"
   ]
  },
  {
   "cell_type": "markdown",
   "id": "08b8e0eb",
   "metadata": {},
   "source": [
    "#### Selecting features and Targets"
   ]
  },
  {
   "cell_type": "code",
   "execution_count": 13,
   "id": "9fb224d9",
   "metadata": {},
   "outputs": [],
   "source": [
    "x = data.iloc[:, :-1].values\n",
    "y = data.iloc[:, -1].values"
   ]
  },
  {
   "cell_type": "markdown",
   "id": "fca2bdc8",
   "metadata": {},
   "source": [
    "#### Standardizing the data"
   ]
  },
  {
   "cell_type": "code",
   "execution_count": 14,
   "id": "9bb3f2fa",
   "metadata": {},
   "outputs": [],
   "source": [
    "SC = StandardScaler()"
   ]
  },
  {
   "cell_type": "code",
   "execution_count": 15,
   "id": "f2b03bb0",
   "metadata": {},
   "outputs": [],
   "source": [
    "x_scaled = SC.fit_transform(x)"
   ]
  },
  {
   "cell_type": "code",
   "execution_count": 16,
   "id": "b9488cd5",
   "metadata": {},
   "outputs": [],
   "source": [
    "pca_model = PCA().fit(x_scaled)"
   ]
  },
  {
   "cell_type": "code",
   "execution_count": 17,
   "id": "582d511d",
   "metadata": {},
   "outputs": [
    {
     "data": {
      "text/plain": [
       "array([0.67519343, 0.10596446, 0.08023255, 0.0543379 , 0.03766808,\n",
       "       0.02546844, 0.02113513])"
      ]
     },
     "execution_count": 17,
     "metadata": {},
     "output_type": "execute_result"
    }
   ],
   "source": [
    "pca_model.explained_variance_ratio_"
   ]
  },
  {
   "cell_type": "code",
   "execution_count": 18,
   "id": "85359f50",
   "metadata": {},
   "outputs": [
    {
     "data": {
      "text/plain": [
       "array([0.67519343, 0.78115789, 0.86139044, 0.91572834, 0.95339642,\n",
       "       0.97886487, 1.        ])"
      ]
     },
     "execution_count": 18,
     "metadata": {},
     "output_type": "execute_result"
    }
   ],
   "source": [
    "pca_model.explained_variance_ratio_.cumsum()"
   ]
  },
  {
   "cell_type": "code",
   "execution_count": 19,
   "id": "fd506865",
   "metadata": {},
   "outputs": [
    {
     "data": {
      "text/plain": [
       "array([48.61251905, 19.25813119, 16.75750346, 13.79067208, 11.4820858 ,\n",
       "        9.44137474,  8.60075376])"
      ]
     },
     "execution_count": 19,
     "metadata": {},
     "output_type": "execute_result"
    }
   ],
   "source": [
    "pca_model.singular_values_"
   ]
  },
  {
   "cell_type": "markdown",
   "id": "29304e39",
   "metadata": {},
   "source": [
    "### Screeplot"
   ]
  },
  {
   "cell_type": "markdown",
   "id": "4fbd3996",
   "metadata": {},
   "source": [
    "The screeplot is used to determine the number of principal components to keep in a PCA."
   ]
  },
  {
   "cell_type": "code",
   "execution_count": 20,
   "id": "97b968da",
   "metadata": {},
   "outputs": [
    {
     "data": {
      "image/png": "[encoded data removed]",
      "text/plain": [
       "<Figure size 800x600 with 1 Axes>"
      ]
     },
     "metadata": {},
     "output_type": "display_data"
    }
   ],
   "source": [
    "fig = plt.figure(figsize = (8,6))\n",
    "plt.plot(range(1,len(pca_model.singular_values_)+1),pca_model.singular_values_,alpha=0.8,marker='.')\n",
    "y_label = plt.ylabel('EigenValues')\n",
    "x_label = plt.xlabel('Components')\n",
    "plt.title('Screeplot')\n",
    "plt.show()"
   ]
  },
  {
   "cell_type": "markdown",
   "id": "2a087647",
   "metadata": {},
   "source": [
    "I am choosing 6 components"
   ]
  },
  {
   "cell_type": "markdown",
   "id": "0f5f4d0d",
   "metadata": {},
   "source": [
    "### % Of Explained Variance by Component"
   ]
  },
  {
   "cell_type": "code",
   "execution_count": 21,
   "id": "f308aa5b",
   "metadata": {},
   "outputs": [
    {
     "data": {
      "image/png": "[encoded data removed]",
      "text/plain": [
       "<Figure size 800x600 with 1 Axes>"
      ]
     },
     "metadata": {},
     "output_type": "display_data"
    }
   ],
   "source": [
    "fig = plt.figure(figsize=(8, 6))\n",
    "plt.plot(range(1,len(pca_model.explained_variance_ratio_)+1), pca_model.explained_variance_ratio_,marker = '.', alpha = 0.8, label = 'Explained Variance', color = 'red')\n",
    "y_label = plt.ylabel('Explained Variance')\n",
    "x_label = plt.xlabel('Components')\n",
    "plt.plot(range(1, len(pca_model.explained_variance_ratio_)+1), pca_model.explained_variance_ratio_.cumsum(),marker = '.', label = 'Cumulative Explained Variance', color = 'black')\n",
    "plt.legend()\n",
    "plt.title(\"Percentage of variance explained by component\")\n",
    "plt.show()         "
   ]
  },
  {
   "cell_type": "code",
   "execution_count": 22,
   "id": "58c78519",
   "metadata": {},
   "outputs": [],
   "source": [
    "pca = PCA(n_components=6)"
   ]
  },
  {
   "cell_type": "code",
   "execution_count": 23,
   "id": "da186de0",
   "metadata": {},
   "outputs": [],
   "source": [
    "x_pca = pca.fit_transform(x_scaled)"
   ]
  },
  {
   "cell_type": "code",
   "execution_count": 28,
   "id": "78659cbd",
   "metadata": {},
   "outputs": [
    {
     "data": {
      "text/plain": [
       "(500, 6)"
      ]
     },
     "execution_count": 28,
     "metadata": {},
     "output_type": "execute_result"
    }
   ],
   "source": [
    "x_pca.shape"
   ]
  },
  {
   "cell_type": "markdown",
   "id": "42118a4f",
   "metadata": {},
   "source": [
    "#### Splitting the data into training and testing sets"
   ]
  },
  {
   "cell_type": "code",
   "execution_count": 30,
   "id": "522dca40",
   "metadata": {},
   "outputs": [],
   "source": [
    "x_train, x_test, y_train, y_test = train_test_split(x_pca, y, test_size=0.2, random_state = 42, shuffle=True)"
   ]
  },
  {
   "cell_type": "markdown",
   "id": "25dfea40",
   "metadata": {},
   "source": [
    "#### Model building\n",
    "\n",
    "##### Initialising the model"
   ]
  },
  {
   "cell_type": "code",
   "execution_count": 31,
   "id": "fc7a29cc",
   "metadata": {},
   "outputs": [],
   "source": [
    "model = LinearRegression()"
   ]
  },
  {
   "cell_type": "markdown",
   "id": "6f1c7f58",
   "metadata": {},
   "source": [
    "##### Fitting the model with training data"
   ]
  },
  {
   "cell_type": "code",
   "execution_count": 32,
   "id": "de2a494d",
   "metadata": {},
   "outputs": [
    {
     "data": {
      "text/plain": [
       "LinearRegression()"
      ]
     },
     "execution_count": 32,
     "metadata": {},
     "output_type": "execute_result"
    }
   ],
   "source": [
    "model.fit(x_train, y_train)"
   ]
  },
  {
   "cell_type": "markdown",
   "id": "6806792f",
   "metadata": {},
   "source": [
    "##### Predicting using the test data"
   ]
  },
  {
   "cell_type": "code",
   "execution_count": 33,
   "id": "3f8a7828",
   "metadata": {},
   "outputs": [],
   "source": [
    "y_pred = model.predict(x_test)"
   ]
  },
  {
   "cell_type": "markdown",
   "id": "6c23ddb3",
   "metadata": {},
   "source": [
    "##### Evaluating the accuracy"
   ]
  },
  {
   "cell_type": "code",
   "execution_count": 34,
   "id": "8492f607",
   "metadata": {},
   "outputs": [
    {
     "data": {
      "text/plain": [
       "0.8016484617313252"
      ]
     },
     "execution_count": 34,
     "metadata": {},
     "output_type": "execute_result"
    }
   ],
   "source": [
    "r2_score(y_test, y_pred)"
   ]
  },
  {
   "cell_type": "markdown",
   "id": "df993856",
   "metadata": {},
   "source": [
    "##### Testing accuracy"
   ]
  },
  {
   "cell_type": "code",
   "execution_count": 35,
   "id": "82e5b37d",
   "metadata": {},
   "outputs": [
    {
     "data": {
      "text/plain": [
       "0.8016484617313252"
      ]
     },
     "execution_count": 35,
     "metadata": {},
     "output_type": "execute_result"
    }
   ],
   "source": [
    "model.score(x_test, y_test)"
   ]
  },
  {
   "cell_type": "markdown",
   "id": "07dcab93",
   "metadata": {},
   "source": [
    "##### Training accuracy"
   ]
  },
  {
   "cell_type": "code",
   "execution_count": 36,
   "id": "e696d0ca",
   "metadata": {},
   "outputs": [
    {
     "data": {
      "text/plain": [
       "0.8167772157525058"
      ]
     },
     "execution_count": 36,
     "metadata": {},
     "output_type": "execute_result"
    }
   ],
   "source": [
    "model.score(x_train, y_train)"
   ]
  },
  {
   "cell_type": "markdown",
   "id": "41431caf",
   "metadata": {},
   "source": [
    "#### MAE"
   ]
  },
  {
   "cell_type": "code",
   "execution_count": 37,
   "id": "7c67b645",
   "metadata": {},
   "outputs": [
    {
     "data": {
      "text/plain": [
       "0.04539884680969553"
      ]
     },
     "execution_count": 37,
     "metadata": {},
     "output_type": "execute_result"
    }
   ],
   "source": [
    "mean_absolute_error(y_test, y_pred)"
   ]
  },
  {
   "cell_type": "markdown",
   "id": "10bc1917",
   "metadata": {},
   "source": [
    "##### MSE"
   ]
  },
  {
   "cell_type": "code",
   "execution_count": 38,
   "id": "56f0a174",
   "metadata": {},
   "outputs": [
    {
     "data": {
      "text/plain": [
       "0.0040562889575944"
      ]
     },
     "execution_count": 38,
     "metadata": {},
     "output_type": "execute_result"
    }
   ],
   "source": [
    "mean_squared_error(y_test, y_pred)"
   ]
  },
  {
   "cell_type": "markdown",
   "id": "9d4fb81e",
   "metadata": {},
   "source": [
    "##### Root Mean Squared Error"
   ]
  },
  {
   "cell_type": "code",
   "execution_count": 39,
   "id": "634d1b12",
   "metadata": {},
   "outputs": [
    {
     "data": {
      "text/plain": [
       "0.06368900185741963"
      ]
     },
     "execution_count": 39,
     "metadata": {},
     "output_type": "execute_result"
    }
   ],
   "source": [
    "np.sqrt(mean_squared_error(y_test,y_pred))"
   ]
  },
  {
   "cell_type": "markdown",
   "id": "1715fba8",
   "metadata": {},
   "source": [
    "#### Creating a dataframe with y_test and y_pred"
   ]
  },
  {
   "cell_type": "code",
   "execution_count": 40,
   "id": "92e97e67",
   "metadata": {},
   "outputs": [],
   "source": [
    "OUTPUT = pd.DataFrame(zip(y_test, y_pred), columns=['ACTUAL', 'PREDICTION'])"
   ]
  },
  {
   "cell_type": "code",
   "execution_count": 41,
   "id": "446f9830",
   "metadata": {},
   "outputs": [
    {
     "data": {
      "text/html": [
       "<div>\n",
       "<style scoped>\n",
       "    .dataframe tbody tr th:only-of-type {\n",
       "        vertical-align: middle;\n",
       "    }\n",
       "\n",
       "    .dataframe tbody tr th {\n",
       "        vertical-align: top;\n",
       "    }\n",
       "\n",
       "    .dataframe thead th {\n",
       "        text-align: right;\n",
       "    }\n",
       "</style>\n",
       "<table border=\"1\" class=\"dataframe\">\n",
       "  <thead>\n",
       "    <tr style=\"text-align: right;\">\n",
       "      <th></th>\n",
       "      <th>ACTUAL</th>\n",
       "      <th>PREDICTION</th>\n",
       "    </tr>\n",
       "  </thead>\n",
       "  <tbody>\n",
       "    <tr>\n",
       "      <th>0</th>\n",
       "      <td>0.93</td>\n",
       "      <td>0.910980</td>\n",
       "    </tr>\n",
       "    <tr>\n",
       "      <th>1</th>\n",
       "      <td>0.84</td>\n",
       "      <td>0.781616</td>\n",
       "    </tr>\n",
       "    <tr>\n",
       "      <th>2</th>\n",
       "      <td>0.39</td>\n",
       "      <td>0.590560</td>\n",
       "    </tr>\n",
       "    <tr>\n",
       "      <th>3</th>\n",
       "      <td>0.77</td>\n",
       "      <td>0.696344</td>\n",
       "    </tr>\n",
       "    <tr>\n",
       "      <th>4</th>\n",
       "      <td>0.74</td>\n",
       "      <td>0.811888</td>\n",
       "    </tr>\n",
       "  </tbody>\n",
       "</table>\n",
       "</div>"
      ],
      "text/plain": [
       "   ACTUAL  PREDICTION\n",
       "0    0.93    0.910980\n",
       "1    0.84    0.781616\n",
       "2    0.39    0.590560\n",
       "3    0.77    0.696344\n",
       "4    0.74    0.811888"
      ]
     },
     "execution_count": 41,
     "metadata": {},
     "output_type": "execute_result"
    }
   ],
   "source": [
    "OUTPUT.head()"
   ]
  },
  {
   "cell_type": "markdown",
   "id": "e10de04d",
   "metadata": {},
   "source": [
    "#### Plotting the result"
   ]
  },
  {
   "cell_type": "code",
   "execution_count": 42,
   "id": "f34a216f",
   "metadata": {},
   "outputs": [
    {
     "data": {
      "image/png": "[encoded data removed]",
      "text/plain": [
       "<Figure size 640x480 with 1 Axes>"
      ]
     },
     "metadata": {},
     "output_type": "display_data"
    }
   ],
   "source": [
    "sns.regplot(data=OUTPUT, x='ACTUAL', y='PREDICTION')\n",
    "plt.show()"
   ]
  },
  {
   "cell_type": "markdown",
   "id": "0d85b733",
   "metadata": {},
   "source": [
    "#### Model building\n",
    "\n",
    "##### Creating a dictionary of models for iterative purpose"
   ]
  },
  {
   "cell_type": "code",
   "execution_count": 43,
   "id": "35539b7a",
   "metadata": {},
   "outputs": [],
   "source": [
    "models = {\n",
    "\"LinearRegression\": LinearRegression(),\n",
    "\"Ridge\":Ridge(),\n",
    "'Lasso':Lasso(),\n",
    "\"LinearSVR\":LinearSVR(random_state=42),\n",
    "\"DecisionTreeRegressor\":DecisionTreeRegressor(random_state=42),\n",
    "\"GradientBoostingRegressor\":GradientBoostingRegressor(random_state=42),\n",
    "\"AdaBoostRegressor\":AdaBoostRegressor(random_state=42),\n",
    "\"RandomForestRegressor\":RandomForestRegressor(random_state=42)\n",
    "}"
   ]
  },
  {
   "cell_type": "markdown",
   "id": "9ed18f16",
   "metadata": {},
   "source": [
    "#### Using a for loop for model training and testing"
   ]
  },
  {
   "cell_type": "code",
   "execution_count": 44,
   "id": "cbe1053b",
   "metadata": {},
   "outputs": [
    {
     "name": "stdout",
     "output_type": "stream",
     "text": [
      "model trained with LinearRegression\n",
      "r2score:  80.16484617313252\n",
      "training_score:  81.67772157525059\n",
      "testing_score:  80.16484617313252\n",
      "mae:  0.04539884680969553\n",
      "mse:  0.0040562889575944\n",
      "rmse_test:  0.06368900185741963\n",
      "****************************************************************************************************\n",
      "model trained with Ridge\n",
      "r2score:  80.1841490387135\n",
      "training_score:  81.67743196595917\n",
      "testing_score:  80.1841490387135\n",
      "mae:  0.04536260994281517\n",
      "mse:  0.004052341521583089\n",
      "rmse_test:  0.0636580043795208\n",
      "****************************************************************************************************\n",
      "model trained with Lasso\n",
      "r2score:  -0.724844132029312\n",
      "training_score:  0.0\n",
      "testing_score:  -0.724844132029312\n",
      "mae:  0.116268\n",
      "mse:  0.020598230624999995\n",
      "rmse_test:  0.1435208369018241\n",
      "****************************************************************************************************\n",
      "model trained with LinearSVR\n",
      "r2score:  80.04939436839595\n",
      "training_score:  81.32120922042618\n",
      "testing_score:  80.04939436839595\n",
      "mae:  0.04423618007031058\n",
      "mse:  0.004079898851663027\n",
      "rmse_test:  0.06387408591645775\n",
      "****************************************************************************************************\n",
      "model trained with DecisionTreeRegressor\n",
      "r2score:  61.716381418092915\n",
      "training_score:  100.0\n",
      "testing_score:  61.716381418092915\n",
      "mae:  0.0643\n",
      "mse:  0.007829000000000001\n",
      "rmse_test:  0.08848163651289459\n",
      "****************************************************************************************************\n",
      "model trained with GradientBoostingRegressor\n",
      "r2score:  80.4615071006958\n",
      "training_score:  94.36820295153773\n",
      "testing_score:  80.4615071006958\n",
      "mae:  0.04602263960743038\n",
      "mse:  0.00399562179790771\n",
      "rmse_test:  0.06321093100016571\n",
      "****************************************************************************************************\n",
      "model trained with AdaBoostRegressor\n",
      "r2score:  78.43451826340952\n",
      "training_score:  83.95544351680779\n",
      "testing_score:  78.43451826340952\n",
      "mae:  0.05170105258094396\n",
      "mse:  0.0044101410151327555\n",
      "rmse_test:  0.06640889259077247\n",
      "****************************************************************************************************\n",
      "model trained with RandomForestRegressor\n",
      "r2score:  79.45456332518339\n",
      "training_score:  96.9047565032038\n",
      "testing_score:  79.45456332518339\n",
      "mae:  0.048285999999999996\n",
      "mse:  0.004201541799999999\n",
      "rmse_test:  0.06481930113785553\n",
      "****************************************************************************************************\n"
     ]
    }
   ],
   "source": [
    "for name, model in models.items():\n",
    "    model.fit(x_train, y_train)\n",
    "    print(\"model trained with {}\".format(name))\n",
    "    training_score = model.score(x_train, y_train)*100\n",
    "    testing_score = model.score(x_test, y_test)*100\n",
    "    score = r2_score(y_test, model.predict(x_test))*100\n",
    "    mae = mean_absolute_error(y_test, model.predict(x_test))\n",
    "    mse = mean_squared_error(y_test, model.predict(x_test))\n",
    "    rmse = np.sqrt(mse)\n",
    "    print(\"r2score: \",score)\n",
    "    print(\"training_score: \", training_score)\n",
    "    print(\"testing_score: \", testing_score)\n",
    "    print(\"mae: \", mae)\n",
    "    print(\"mse: \", mse)\n",
    "    print(\"rmse_test: \", rmse)\n",
    "    print(\"*\"*100)"
   ]
  },
  {
   "cell_type": "code",
   "execution_count": 46,
   "id": "992f744f",
   "metadata": {},
   "outputs": [
    {
     "data": {
      "image/png": "[encoded data removed]",
      "text/plain": [
       "<Figure size 640x480 with 1 Axes>"
      ]
     },
     "metadata": {},
     "output_type": "display_data"
    }
   ],
   "source": [
    "model = RandomForestRegressor()\n",
    "model.fit(x_train, y_train)\n",
    "y_pred = model.predict(x_test)\n",
    "OUTPUT = pd.DataFrame(zip(y_test, y_pred), columns=['ACTUAL', 'PREDICTION'])\n",
    "OUTPUT.head()\n",
    "sns.regplot(data=OUTPUT, x='ACTUAL', y='PREDICTION')\n",
    "plt.show()"
   ]
  },
  {
   "cell_type": "code",
   "execution_count": null,
   "id": "da69028e",
   "metadata": {},
   "outputs": [],
   "source": []
  }
 ],
 "metadata": {
  "kernelspec": {
   "display_name": "Python 3 (ipykernel)",
   "language": "python",
   "name": "python3"
  },
  "language_info": {
   "codemirror_mode": {
    "name": "ipython",
    "version": 3
   },
   "file_extension": ".py",
   "mimetype": "text/x-python",
   "name": "python",
   "nbconvert_exporter": "python",
   "pygments_lexer": "ipython3",
   "version": "3.9.13"
  }
 },
 "nbformat": 4,
 "nbformat_minor": 5
}
