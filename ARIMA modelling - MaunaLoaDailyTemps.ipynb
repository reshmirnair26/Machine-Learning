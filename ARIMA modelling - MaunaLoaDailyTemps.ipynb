{
 "cells": [
  {
   "cell_type": "markdown",
   "id": "0d530827",
   "metadata": {},
   "source": [
    "## <center>ARIMA modelling using pmdarima library"
   ]
  },
  {
   "cell_type": "code",
   "execution_count": 1,
   "id": "6971ba90",
   "metadata": {},
   "outputs": [],
   "source": [
    "import pandas as pd\n",
    "import numpy as np\n",
    "import matplotlib.pyplot as plt\n",
    "from statsmodels.tsa.stattools import adfuller\n",
    "from pmdarima import auto_arima\n",
    "import statsmodels.api as sm\n",
    "from sklearn.metrics import mean_squared_error\n",
    "import warnings\n",
    "warnings.filterwarnings('ignore')"
   ]
  },
  {
   "cell_type": "code",
   "execution_count": 2,
   "id": "cc359771",
   "metadata": {},
   "outputs": [
    {
     "data": {
      "text/html": [
       "<div>\n",
       "<style scoped>\n",
       "    .dataframe tbody tr th:only-of-type {\n",
       "        vertical-align: middle;\n",
       "    }\n",
       "\n",
       "    .dataframe tbody tr th {\n",
       "        vertical-align: top;\n",
       "    }\n",
       "\n",
       "    .dataframe thead th {\n",
       "        text-align: right;\n",
       "    }\n",
       "</style>\n",
       "<table border=\"1\" class=\"dataframe\">\n",
       "  <thead>\n",
       "    <tr style=\"text-align: right;\">\n",
       "      <th></th>\n",
       "      <th>DATE</th>\n",
       "      <th>MinTemp</th>\n",
       "      <th>MaxTemp</th>\n",
       "      <th>AvgTemp</th>\n",
       "      <th>Sunrise</th>\n",
       "      <th>Sunset</th>\n",
       "    </tr>\n",
       "  </thead>\n",
       "  <tbody>\n",
       "    <tr>\n",
       "      <th>0</th>\n",
       "      <td>2014-01-01</td>\n",
       "      <td>33.0</td>\n",
       "      <td>46.0</td>\n",
       "      <td>40.0</td>\n",
       "      <td>657</td>\n",
       "      <td>1756</td>\n",
       "    </tr>\n",
       "    <tr>\n",
       "      <th>1</th>\n",
       "      <td>2014-01-02</td>\n",
       "      <td>35.0</td>\n",
       "      <td>50.0</td>\n",
       "      <td>43.0</td>\n",
       "      <td>657</td>\n",
       "      <td>1756</td>\n",
       "    </tr>\n",
       "    <tr>\n",
       "      <th>2</th>\n",
       "      <td>2014-01-03</td>\n",
       "      <td>36.0</td>\n",
       "      <td>45.0</td>\n",
       "      <td>41.0</td>\n",
       "      <td>657</td>\n",
       "      <td>1757</td>\n",
       "    </tr>\n",
       "    <tr>\n",
       "      <th>3</th>\n",
       "      <td>2014-01-04</td>\n",
       "      <td>32.0</td>\n",
       "      <td>41.0</td>\n",
       "      <td>37.0</td>\n",
       "      <td>658</td>\n",
       "      <td>1757</td>\n",
       "    </tr>\n",
       "    <tr>\n",
       "      <th>4</th>\n",
       "      <td>2014-01-05</td>\n",
       "      <td>24.0</td>\n",
       "      <td>38.0</td>\n",
       "      <td>31.0</td>\n",
       "      <td>658</td>\n",
       "      <td>1758</td>\n",
       "    </tr>\n",
       "  </tbody>\n",
       "</table>\n",
       "</div>"
      ],
      "text/plain": [
       "        DATE  MinTemp  MaxTemp  AvgTemp  Sunrise  Sunset\n",
       "0 2014-01-01     33.0     46.0     40.0      657    1756\n",
       "1 2014-01-02     35.0     50.0     43.0      657    1756\n",
       "2 2014-01-03     36.0     45.0     41.0      657    1757\n",
       "3 2014-01-04     32.0     41.0     37.0      658    1757\n",
       "4 2014-01-05     24.0     38.0     31.0      658    1758"
      ]
     },
     "execution_count": 2,
     "metadata": {},
     "output_type": "execute_result"
    }
   ],
   "source": [
    "data = pd.read_csv('./MaunaLoaDailyTemps.csv',parse_dates=['DATE'])\n",
    "data.head()"
   ]
  },
  {
   "cell_type": "markdown",
   "id": "5b898b1c",
   "metadata": {},
   "source": [
    "#### Set DATE column as index"
   ]
  },
  {
   "cell_type": "code",
   "execution_count": 3,
   "id": "7ea63d58",
   "metadata": {},
   "outputs": [],
   "source": [
    "data.set_index('DATE', inplace=True)"
   ]
  },
  {
   "cell_type": "code",
   "execution_count": 4,
   "id": "9d2552e3",
   "metadata": {},
   "outputs": [
    {
     "data": {
      "text/html": [
       "<div>\n",
       "<style scoped>\n",
       "    .dataframe tbody tr th:only-of-type {\n",
       "        vertical-align: middle;\n",
       "    }\n",
       "\n",
       "    .dataframe tbody tr th {\n",
       "        vertical-align: top;\n",
       "    }\n",
       "\n",
       "    .dataframe thead th {\n",
       "        text-align: right;\n",
       "    }\n",
       "</style>\n",
       "<table border=\"1\" class=\"dataframe\">\n",
       "  <thead>\n",
       "    <tr style=\"text-align: right;\">\n",
       "      <th></th>\n",
       "      <th>MinTemp</th>\n",
       "      <th>MaxTemp</th>\n",
       "      <th>AvgTemp</th>\n",
       "      <th>Sunrise</th>\n",
       "      <th>Sunset</th>\n",
       "    </tr>\n",
       "    <tr>\n",
       "      <th>DATE</th>\n",
       "      <th></th>\n",
       "      <th></th>\n",
       "      <th></th>\n",
       "      <th></th>\n",
       "      <th></th>\n",
       "    </tr>\n",
       "  </thead>\n",
       "  <tbody>\n",
       "    <tr>\n",
       "      <th>2014-01-01</th>\n",
       "      <td>33.0</td>\n",
       "      <td>46.0</td>\n",
       "      <td>40.0</td>\n",
       "      <td>657</td>\n",
       "      <td>1756</td>\n",
       "    </tr>\n",
       "    <tr>\n",
       "      <th>2014-01-02</th>\n",
       "      <td>35.0</td>\n",
       "      <td>50.0</td>\n",
       "      <td>43.0</td>\n",
       "      <td>657</td>\n",
       "      <td>1756</td>\n",
       "    </tr>\n",
       "    <tr>\n",
       "      <th>2014-01-03</th>\n",
       "      <td>36.0</td>\n",
       "      <td>45.0</td>\n",
       "      <td>41.0</td>\n",
       "      <td>657</td>\n",
       "      <td>1757</td>\n",
       "    </tr>\n",
       "    <tr>\n",
       "      <th>2014-01-04</th>\n",
       "      <td>32.0</td>\n",
       "      <td>41.0</td>\n",
       "      <td>37.0</td>\n",
       "      <td>658</td>\n",
       "      <td>1757</td>\n",
       "    </tr>\n",
       "    <tr>\n",
       "      <th>2014-01-05</th>\n",
       "      <td>24.0</td>\n",
       "      <td>38.0</td>\n",
       "      <td>31.0</td>\n",
       "      <td>658</td>\n",
       "      <td>1758</td>\n",
       "    </tr>\n",
       "  </tbody>\n",
       "</table>\n",
       "</div>"
      ],
      "text/plain": [
       "            MinTemp  MaxTemp  AvgTemp  Sunrise  Sunset\n",
       "DATE                                                  \n",
       "2014-01-01     33.0     46.0     40.0      657    1756\n",
       "2014-01-02     35.0     50.0     43.0      657    1756\n",
       "2014-01-03     36.0     45.0     41.0      657    1757\n",
       "2014-01-04     32.0     41.0     37.0      658    1757\n",
       "2014-01-05     24.0     38.0     31.0      658    1758"
      ]
     },
     "execution_count": 4,
     "metadata": {},
     "output_type": "execute_result"
    }
   ],
   "source": [
    "data.head()"
   ]
  },
  {
   "cell_type": "code",
   "execution_count": 5,
   "id": "0a037fef",
   "metadata": {},
   "outputs": [
    {
     "name": "stdout",
     "output_type": "stream",
     "text": [
      "<class 'pandas.core.frame.DataFrame'>\n",
      "DatetimeIndex: 1825 entries, 2014-01-01 to 2018-12-30\n",
      "Data columns (total 5 columns):\n",
      " #   Column   Non-Null Count  Dtype  \n",
      "---  ------   --------------  -----  \n",
      " 0   MinTemp  1821 non-null   float64\n",
      " 1   MaxTemp  1821 non-null   float64\n",
      " 2   AvgTemp  1821 non-null   float64\n",
      " 3   Sunrise  1825 non-null   int64  \n",
      " 4   Sunset   1825 non-null   int64  \n",
      "dtypes: float64(3), int64(2)\n",
      "memory usage: 85.5 KB\n"
     ]
    }
   ],
   "source": [
    "data.info()"
   ]
  },
  {
   "cell_type": "markdown",
   "id": "157ff46b",
   "metadata": {},
   "source": [
    "#### Preprocessing"
   ]
  },
  {
   "cell_type": "code",
   "execution_count": 6,
   "id": "83aba9a9",
   "metadata": {},
   "outputs": [
    {
     "data": {
      "text/plain": [
       "MinTemp    0.219178\n",
       "MaxTemp    0.219178\n",
       "AvgTemp    0.219178\n",
       "Sunrise    0.000000\n",
       "Sunset     0.000000\n",
       "dtype: float64"
      ]
     },
     "execution_count": 6,
     "metadata": {},
     "output_type": "execute_result"
    }
   ],
   "source": [
    "data.isnull().mean()*100"
   ]
  },
  {
   "cell_type": "code",
   "execution_count": 7,
   "id": "ba20248b",
   "metadata": {},
   "outputs": [
    {
     "data": {
      "text/plain": [
       "46"
      ]
     },
     "execution_count": 7,
     "metadata": {},
     "output_type": "execute_result"
    }
   ],
   "source": [
    "data.duplicated().sum()"
   ]
  },
  {
   "cell_type": "code",
   "execution_count": 8,
   "id": "757d500a",
   "metadata": {},
   "outputs": [],
   "source": [
    "data.dropna(inplace=True)\n",
    "data.drop_duplicates(inplace=True)"
   ]
  },
  {
   "cell_type": "markdown",
   "id": "5432f30d",
   "metadata": {},
   "source": [
    "#### Lets focus on the average temperature only,and drop all the other columns"
   ]
  },
  {
   "cell_type": "code",
   "execution_count": 9,
   "id": "31e0d53c",
   "metadata": {},
   "outputs": [
    {
     "data": {
      "text/plain": [
       "Index(['MinTemp', 'MaxTemp', 'AvgTemp', 'Sunrise', 'Sunset'], dtype='object')"
      ]
     },
     "execution_count": 9,
     "metadata": {},
     "output_type": "execute_result"
    }
   ],
   "source": [
    "data.columns"
   ]
  },
  {
   "cell_type": "code",
   "execution_count": 10,
   "id": "afec6ed0",
   "metadata": {},
   "outputs": [],
   "source": [
    "data.drop(columns = ['MinTemp', 'MaxTemp','Sunrise', 'Sunset'],inplace=True)"
   ]
  },
  {
   "cell_type": "code",
   "execution_count": 11,
   "id": "136c425b",
   "metadata": {},
   "outputs": [
    {
     "data": {
      "text/html": [
       "<div>\n",
       "<style scoped>\n",
       "    .dataframe tbody tr th:only-of-type {\n",
       "        vertical-align: middle;\n",
       "    }\n",
       "\n",
       "    .dataframe tbody tr th {\n",
       "        vertical-align: top;\n",
       "    }\n",
       "\n",
       "    .dataframe thead th {\n",
       "        text-align: right;\n",
       "    }\n",
       "</style>\n",
       "<table border=\"1\" class=\"dataframe\">\n",
       "  <thead>\n",
       "    <tr style=\"text-align: right;\">\n",
       "      <th></th>\n",
       "      <th>AvgTemp</th>\n",
       "    </tr>\n",
       "    <tr>\n",
       "      <th>DATE</th>\n",
       "      <th></th>\n",
       "    </tr>\n",
       "  </thead>\n",
       "  <tbody>\n",
       "    <tr>\n",
       "      <th>2014-01-01</th>\n",
       "      <td>40.0</td>\n",
       "    </tr>\n",
       "    <tr>\n",
       "      <th>2014-01-02</th>\n",
       "      <td>43.0</td>\n",
       "    </tr>\n",
       "    <tr>\n",
       "      <th>2014-01-03</th>\n",
       "      <td>41.0</td>\n",
       "    </tr>\n",
       "    <tr>\n",
       "      <th>2014-01-04</th>\n",
       "      <td>37.0</td>\n",
       "    </tr>\n",
       "    <tr>\n",
       "      <th>2014-01-05</th>\n",
       "      <td>31.0</td>\n",
       "    </tr>\n",
       "  </tbody>\n",
       "</table>\n",
       "</div>"
      ],
      "text/plain": [
       "            AvgTemp\n",
       "DATE               \n",
       "2014-01-01     40.0\n",
       "2014-01-02     43.0\n",
       "2014-01-03     41.0\n",
       "2014-01-04     37.0\n",
       "2014-01-05     31.0"
      ]
     },
     "execution_count": 11,
     "metadata": {},
     "output_type": "execute_result"
    }
   ],
   "source": [
    "data.head()"
   ]
  },
  {
   "cell_type": "markdown",
   "id": "de15694d",
   "metadata": {},
   "source": [
    "#### Checking the stationarity"
   ]
  },
  {
   "cell_type": "code",
   "execution_count": 12,
   "id": "35e356cd",
   "metadata": {},
   "outputs": [],
   "source": [
    "data_adf = adfuller(data)"
   ]
  },
  {
   "cell_type": "markdown",
   "id": "f8449474",
   "metadata": {},
   "source": [
    "#### Test statistic"
   ]
  },
  {
   "cell_type": "code",
   "execution_count": 13,
   "id": "5150b7bd",
   "metadata": {},
   "outputs": [
    {
     "data": {
      "text/plain": [
       "-6.1541990764358285"
      ]
     },
     "execution_count": 13,
     "metadata": {},
     "output_type": "execute_result"
    }
   ],
   "source": [
    "data_adf[0]"
   ]
  },
  {
   "cell_type": "markdown",
   "id": "db87c04a",
   "metadata": {},
   "source": [
    "#### P value"
   ]
  },
  {
   "cell_type": "code",
   "execution_count": 14,
   "id": "05b5f5a8",
   "metadata": {},
   "outputs": [
    {
     "data": {
      "text/plain": [
       "7.436482655947371e-08"
      ]
     },
     "execution_count": 14,
     "metadata": {},
     "output_type": "execute_result"
    }
   ],
   "source": [
    "data_adf[1]"
   ]
  },
  {
   "cell_type": "markdown",
   "id": "e219755f",
   "metadata": {},
   "source": [
    "#### CI value"
   ]
  },
  {
   "cell_type": "code",
   "execution_count": 15,
   "id": "181bc52b",
   "metadata": {},
   "outputs": [
    {
     "data": {
      "text/plain": [
       "{'1%': -3.434068828903083,\n",
       " '5%': -2.8631826560063542,\n",
       " '10%': -2.5676445003500348}"
      ]
     },
     "execution_count": 15,
     "metadata": {},
     "output_type": "execute_result"
    }
   ],
   "source": [
    "data_adf[4]"
   ]
  },
  {
   "cell_type": "markdown",
   "id": "5bdab564",
   "metadata": {},
   "source": [
    "#### Since the P value is very small, we can conclude that the dataset is stationary"
   ]
  },
  {
   "cell_type": "code",
   "execution_count": 16,
   "id": "ec7b78ec",
   "metadata": {},
   "outputs": [
    {
     "name": "stdout",
     "output_type": "stream",
     "text": [
      "Performing stepwise search to minimize aic\n",
      " ARIMA(2,0,2)(0,0,0)[0] intercept   : AIC=8164.143, Time=2.31 sec\n",
      " ARIMA(0,0,0)(0,0,0)[0] intercept   : AIC=10099.449, Time=0.03 sec\n",
      " ARIMA(1,0,0)(0,0,0)[0] intercept   : AIC=8194.424, Time=0.17 sec\n",
      " ARIMA(0,0,1)(0,0,0)[0] intercept   : AIC=8924.221, Time=0.24 sec\n",
      " ARIMA(0,0,0)(0,0,0)[0]             : AIC=18706.026, Time=0.02 sec\n",
      " ARIMA(1,0,2)(0,0,0)[0] intercept   : AIC=8182.849, Time=0.94 sec\n",
      " ARIMA(2,0,1)(0,0,0)[0] intercept   : AIC=8183.758, Time=1.84 sec\n",
      " ARIMA(3,0,2)(0,0,0)[0] intercept   : AIC=8172.391, Time=2.51 sec\n",
      " ARIMA(2,0,3)(0,0,0)[0] intercept   : AIC=8140.885, Time=2.56 sec\n",
      " ARIMA(1,0,3)(0,0,0)[0] intercept   : AIC=8151.137, Time=2.24 sec\n",
      " ARIMA(3,0,3)(0,0,0)[0] intercept   : AIC=8143.727, Time=2.94 sec\n",
      " ARIMA(2,0,4)(0,0,0)[0] intercept   : AIC=8135.193, Time=2.94 sec\n",
      " ARIMA(1,0,4)(0,0,0)[0] intercept   : AIC=8122.895, Time=2.80 sec\n",
      " ARIMA(0,0,4)(0,0,0)[0] intercept   : AIC=8279.499, Time=0.80 sec\n",
      " ARIMA(1,0,5)(0,0,0)[0] intercept   : AIC=8121.589, Time=3.22 sec\n",
      " ARIMA(0,0,5)(0,0,0)[0] intercept   : AIC=8247.901, Time=1.01 sec\n",
      " ARIMA(2,0,5)(0,0,0)[0] intercept   : AIC=8127.567, Time=3.85 sec\n",
      " ARIMA(1,0,5)(0,0,0)[0]             : AIC=8131.727, Time=0.39 sec\n",
      "\n",
      "Best model:  ARIMA(1,0,5)(0,0,0)[0] intercept\n",
      "Total fit time: 30.907 seconds\n"
     ]
    }
   ],
   "source": [
    "stepwise_fit = auto_arima(data.AvgTemp, trace=True,suppress_warnings=True)"
   ]
  },
  {
   "cell_type": "code",
   "execution_count": 17,
   "id": "4d1e4bc5",
   "metadata": {},
   "outputs": [
    {
     "data": {
      "text/html": [
       "<table class=\"simpletable\">\n",
       "<caption>SARIMAX Results</caption>\n",
       "<tr>\n",
       "  <th>Dep. Variable:</th>           <td>y</td>        <th>  No. Observations:  </th>   <td>1775</td>   \n",
       "</tr>\n",
       "<tr>\n",
       "  <th>Model:</th>           <td>SARIMAX(1, 0, 5)</td> <th>  Log Likelihood     </th> <td>-4052.794</td>\n",
       "</tr>\n",
       "<tr>\n",
       "  <th>Date:</th>            <td>Fri, 13 Oct 2023</td> <th>  AIC                </th> <td>8121.589</td> \n",
       "</tr>\n",
       "<tr>\n",
       "  <th>Time:</th>                <td>08:43:33</td>     <th>  BIC                </th> <td>8165.441</td> \n",
       "</tr>\n",
       "<tr>\n",
       "  <th>Sample:</th>                  <td>0</td>        <th>  HQIC               </th> <td>8137.788</td> \n",
       "</tr>\n",
       "<tr>\n",
       "  <th></th>                      <td> - 1775</td>     <th>                     </th>     <td> </td>    \n",
       "</tr>\n",
       "<tr>\n",
       "  <th>Covariance Type:</th>        <td>opg</td>       <th>                     </th>     <td> </td>    \n",
       "</tr>\n",
       "</table>\n",
       "<table class=\"simpletable\">\n",
       "<tr>\n",
       "      <td></td>         <th>coef</th>     <th>std err</th>      <th>z</th>      <th>P>|z|</th>  <th>[0.025</th>    <th>0.975]</th>  \n",
       "</tr>\n",
       "<tr>\n",
       "  <th>intercept</th> <td>    1.1503</td> <td>    0.357</td> <td>    3.222</td> <td> 0.001</td> <td>    0.451</td> <td>    1.850</td>\n",
       "</tr>\n",
       "<tr>\n",
       "  <th>ar.L1</th>     <td>    0.9752</td> <td>    0.008</td> <td>  126.558</td> <td> 0.000</td> <td>    0.960</td> <td>    0.990</td>\n",
       "</tr>\n",
       "<tr>\n",
       "  <th>ma.L1</th>     <td>   -0.1279</td> <td>    0.024</td> <td>   -5.325</td> <td> 0.000</td> <td>   -0.175</td> <td>   -0.081</td>\n",
       "</tr>\n",
       "<tr>\n",
       "  <th>ma.L2</th>     <td>   -0.2283</td> <td>    0.025</td> <td>   -9.288</td> <td> 0.000</td> <td>   -0.276</td> <td>   -0.180</td>\n",
       "</tr>\n",
       "<tr>\n",
       "  <th>ma.L3</th>     <td>   -0.2063</td> <td>    0.024</td> <td>   -8.529</td> <td> 0.000</td> <td>   -0.254</td> <td>   -0.159</td>\n",
       "</tr>\n",
       "<tr>\n",
       "  <th>ma.L4</th>     <td>   -0.1272</td> <td>    0.023</td> <td>   -5.469</td> <td> 0.000</td> <td>   -0.173</td> <td>   -0.082</td>\n",
       "</tr>\n",
       "<tr>\n",
       "  <th>ma.L5</th>     <td>   -0.0476</td> <td>    0.025</td> <td>   -1.896</td> <td> 0.058</td> <td>   -0.097</td> <td>    0.002</td>\n",
       "</tr>\n",
       "<tr>\n",
       "  <th>sigma2</th>    <td>    5.6317</td> <td>    0.181</td> <td>   31.030</td> <td> 0.000</td> <td>    5.276</td> <td>    5.987</td>\n",
       "</tr>\n",
       "</table>\n",
       "<table class=\"simpletable\">\n",
       "<tr>\n",
       "  <th>Ljung-Box (L1) (Q):</th>     <td>0.00</td> <th>  Jarque-Bera (JB):  </th> <td>14.79</td>\n",
       "</tr>\n",
       "<tr>\n",
       "  <th>Prob(Q):</th>                <td>0.99</td> <th>  Prob(JB):          </th> <td>0.00</td> \n",
       "</tr>\n",
       "<tr>\n",
       "  <th>Heteroskedasticity (H):</th> <td>0.87</td> <th>  Skew:              </th> <td>-0.16</td>\n",
       "</tr>\n",
       "<tr>\n",
       "  <th>Prob(H) (two-sided):</th>    <td>0.09</td> <th>  Kurtosis:          </th> <td>3.32</td> \n",
       "</tr>\n",
       "</table><br/><br/>Warnings:<br/>[1] Covariance matrix calculated using the outer product of gradients (complex-step)."
      ],
      "text/plain": [
       "<class 'statsmodels.iolib.summary.Summary'>\n",
       "\"\"\"\n",
       "                               SARIMAX Results                                \n",
       "==============================================================================\n",
       "Dep. Variable:                      y   No. Observations:                 1775\n",
       "Model:               SARIMAX(1, 0, 5)   Log Likelihood               -4052.794\n",
       "Date:                Fri, 13 Oct 2023   AIC                           8121.589\n",
       "Time:                        08:43:33   BIC                           8165.441\n",
       "Sample:                             0   HQIC                          8137.788\n",
       "                               - 1775                                         \n",
       "Covariance Type:                  opg                                         \n",
       "==============================================================================\n",
       "                 coef    std err          z      P>|z|      [0.025      0.975]\n",
       "------------------------------------------------------------------------------\n",
       "intercept      1.1503      0.357      3.222      0.001       0.451       1.850\n",
       "ar.L1          0.9752      0.008    126.558      0.000       0.960       0.990\n",
       "ma.L1         -0.1279      0.024     -5.325      0.000      -0.175      -0.081\n",
       "ma.L2         -0.2283      0.025     -9.288      0.000      -0.276      -0.180\n",
       "ma.L3         -0.2063      0.024     -8.529      0.000      -0.254      -0.159\n",
       "ma.L4         -0.1272      0.023     -5.469      0.000      -0.173      -0.082\n",
       "ma.L5         -0.0476      0.025     -1.896      0.058      -0.097       0.002\n",
       "sigma2         5.6317      0.181     31.030      0.000       5.276       5.987\n",
       "===================================================================================\n",
       "Ljung-Box (L1) (Q):                   0.00   Jarque-Bera (JB):                14.79\n",
       "Prob(Q):                              0.99   Prob(JB):                         0.00\n",
       "Heteroskedasticity (H):               0.87   Skew:                            -0.16\n",
       "Prob(H) (two-sided):                  0.09   Kurtosis:                         3.32\n",
       "===================================================================================\n",
       "\n",
       "Warnings:\n",
       "[1] Covariance matrix calculated using the outer product of gradients (complex-step).\n",
       "\"\"\""
      ]
     },
     "execution_count": 17,
     "metadata": {},
     "output_type": "execute_result"
    }
   ],
   "source": [
    "stepwise_fit.summary()"
   ]
  },
  {
   "cell_type": "markdown",
   "id": "84f5acc0",
   "metadata": {},
   "source": [
    "#### Splitting the data into training and testing\n",
    "\n",
    "We will preserve the last 30 rows as the testing set and rest as our training set"
   ]
  },
  {
   "cell_type": "code",
   "execution_count": 18,
   "id": "cbaa5e03",
   "metadata": {},
   "outputs": [],
   "source": [
    "train = data.iloc[:-30]\n",
    "test = data.iloc[-30:]"
   ]
  },
  {
   "cell_type": "code",
   "execution_count": 19,
   "id": "c7bd7b98",
   "metadata": {},
   "outputs": [
    {
     "data": {
      "text/plain": [
       "(1745, 1)"
      ]
     },
     "execution_count": 19,
     "metadata": {},
     "output_type": "execute_result"
    }
   ],
   "source": [
    "train.shape"
   ]
  },
  {
   "cell_type": "code",
   "execution_count": 20,
   "id": "c4fe035a",
   "metadata": {},
   "outputs": [
    {
     "data": {
      "text/plain": [
       "(30, 1)"
      ]
     },
     "execution_count": 20,
     "metadata": {},
     "output_type": "execute_result"
    }
   ],
   "source": [
    "test.shape"
   ]
  },
  {
   "cell_type": "code",
   "execution_count": 21,
   "id": "91c5317c",
   "metadata": {},
   "outputs": [],
   "source": [
    "model = sm.tsa.arima.ARIMA(train, order=(1,0,5))"
   ]
  },
  {
   "cell_type": "code",
   "execution_count": 22,
   "id": "8fca04d2",
   "metadata": {},
   "outputs": [],
   "source": [
    "model = model.fit()"
   ]
  },
  {
   "cell_type": "code",
   "execution_count": 23,
   "id": "c706cbfc",
   "metadata": {},
   "outputs": [
    {
     "data": {
      "text/html": [
       "<table class=\"simpletable\">\n",
       "<caption>SARIMAX Results</caption>\n",
       "<tr>\n",
       "  <th>Dep. Variable:</th>        <td>AvgTemp</td>     <th>  No. Observations:  </th>   <td>1745</td>   \n",
       "</tr>\n",
       "<tr>\n",
       "  <th>Model:</th>            <td>ARIMA(1, 0, 5)</td>  <th>  Log Likelihood     </th> <td>-3982.233</td>\n",
       "</tr>\n",
       "<tr>\n",
       "  <th>Date:</th>            <td>Fri, 13 Oct 2023</td> <th>  AIC                </th> <td>7980.465</td> \n",
       "</tr>\n",
       "<tr>\n",
       "  <th>Time:</th>                <td>08:43:35</td>     <th>  BIC                </th> <td>8024.182</td> \n",
       "</tr>\n",
       "<tr>\n",
       "  <th>Sample:</th>                  <td>0</td>        <th>  HQIC               </th> <td>7996.628</td> \n",
       "</tr>\n",
       "<tr>\n",
       "  <th></th>                      <td> - 1745</td>     <th>                     </th>     <td> </td>    \n",
       "</tr>\n",
       "<tr>\n",
       "  <th>Covariance Type:</th>        <td>opg</td>       <th>                     </th>     <td> </td>    \n",
       "</tr>\n",
       "</table>\n",
       "<table class=\"simpletable\">\n",
       "<tr>\n",
       "     <td></td>       <th>coef</th>     <th>std err</th>      <th>z</th>      <th>P>|z|</th>  <th>[0.025</th>    <th>0.975]</th>  \n",
       "</tr>\n",
       "<tr>\n",
       "  <th>const</th>  <td>   46.5730</td> <td>    0.760</td> <td>   61.284</td> <td> 0.000</td> <td>   45.084</td> <td>   48.063</td>\n",
       "</tr>\n",
       "<tr>\n",
       "  <th>ar.L1</th>  <td>    0.9851</td> <td>    0.005</td> <td>  181.753</td> <td> 0.000</td> <td>    0.975</td> <td>    0.996</td>\n",
       "</tr>\n",
       "<tr>\n",
       "  <th>ma.L1</th>  <td>   -0.1394</td> <td>    0.023</td> <td>   -5.934</td> <td> 0.000</td> <td>   -0.185</td> <td>   -0.093</td>\n",
       "</tr>\n",
       "<tr>\n",
       "  <th>ma.L2</th>  <td>   -0.2369</td> <td>    0.024</td> <td>   -9.852</td> <td> 0.000</td> <td>   -0.284</td> <td>   -0.190</td>\n",
       "</tr>\n",
       "<tr>\n",
       "  <th>ma.L3</th>  <td>   -0.2235</td> <td>    0.024</td> <td>   -9.358</td> <td> 0.000</td> <td>   -0.270</td> <td>   -0.177</td>\n",
       "</tr>\n",
       "<tr>\n",
       "  <th>ma.L4</th>  <td>   -0.1393</td> <td>    0.023</td> <td>   -6.008</td> <td> 0.000</td> <td>   -0.185</td> <td>   -0.094</td>\n",
       "</tr>\n",
       "<tr>\n",
       "  <th>ma.L5</th>  <td>   -0.0504</td> <td>    0.025</td> <td>   -2.021</td> <td> 0.043</td> <td>   -0.099</td> <td>   -0.002</td>\n",
       "</tr>\n",
       "<tr>\n",
       "  <th>sigma2</th> <td>    5.6150</td> <td>    0.182</td> <td>   30.792</td> <td> 0.000</td> <td>    5.258</td> <td>    5.972</td>\n",
       "</tr>\n",
       "</table>\n",
       "<table class=\"simpletable\">\n",
       "<tr>\n",
       "  <th>Ljung-Box (L1) (Q):</th>     <td>0.00</td> <th>  Jarque-Bera (JB):  </th> <td>10.95</td>\n",
       "</tr>\n",
       "<tr>\n",
       "  <th>Prob(Q):</th>                <td>1.00</td> <th>  Prob(JB):          </th> <td>0.00</td> \n",
       "</tr>\n",
       "<tr>\n",
       "  <th>Heteroskedasticity (H):</th> <td>0.86</td> <th>  Skew:              </th> <td>-0.14</td>\n",
       "</tr>\n",
       "<tr>\n",
       "  <th>Prob(H) (two-sided):</th>    <td>0.08</td> <th>  Kurtosis:          </th> <td>3.27</td> \n",
       "</tr>\n",
       "</table><br/><br/>Warnings:<br/>[1] Covariance matrix calculated using the outer product of gradients (complex-step)."
      ],
      "text/plain": [
       "<class 'statsmodels.iolib.summary.Summary'>\n",
       "\"\"\"\n",
       "                               SARIMAX Results                                \n",
       "==============================================================================\n",
       "Dep. Variable:                AvgTemp   No. Observations:                 1745\n",
       "Model:                 ARIMA(1, 0, 5)   Log Likelihood               -3982.233\n",
       "Date:                Fri, 13 Oct 2023   AIC                           7980.465\n",
       "Time:                        08:43:35   BIC                           8024.182\n",
       "Sample:                             0   HQIC                          7996.628\n",
       "                               - 1745                                         \n",
       "Covariance Type:                  opg                                         \n",
       "==============================================================================\n",
       "                 coef    std err          z      P>|z|      [0.025      0.975]\n",
       "------------------------------------------------------------------------------\n",
       "const         46.5730      0.760     61.284      0.000      45.084      48.063\n",
       "ar.L1          0.9851      0.005    181.753      0.000       0.975       0.996\n",
       "ma.L1         -0.1394      0.023     -5.934      0.000      -0.185      -0.093\n",
       "ma.L2         -0.2369      0.024     -9.852      0.000      -0.284      -0.190\n",
       "ma.L3         -0.2235      0.024     -9.358      0.000      -0.270      -0.177\n",
       "ma.L4         -0.1393      0.023     -6.008      0.000      -0.185      -0.094\n",
       "ma.L5         -0.0504      0.025     -2.021      0.043      -0.099      -0.002\n",
       "sigma2         5.6150      0.182     30.792      0.000       5.258       5.972\n",
       "===================================================================================\n",
       "Ljung-Box (L1) (Q):                   0.00   Jarque-Bera (JB):                10.95\n",
       "Prob(Q):                              1.00   Prob(JB):                         0.00\n",
       "Heteroskedasticity (H):               0.86   Skew:                            -0.14\n",
       "Prob(H) (two-sided):                  0.08   Kurtosis:                         3.27\n",
       "===================================================================================\n",
       "\n",
       "Warnings:\n",
       "[1] Covariance matrix calculated using the outer product of gradients (complex-step).\n",
       "\"\"\""
      ]
     },
     "execution_count": 23,
     "metadata": {},
     "output_type": "execute_result"
    }
   ],
   "source": [
    "model.summary()"
   ]
  },
  {
   "cell_type": "markdown",
   "id": "b2f332db",
   "metadata": {},
   "source": [
    "#### Predictions using test data\n",
    "\n",
    "We need to provide the starting index and ending index\n",
    "\n",
    "Starting index will be the end of training index"
   ]
  },
  {
   "cell_type": "code",
   "execution_count": 24,
   "id": "65b1556e",
   "metadata": {},
   "outputs": [],
   "source": [
    "start = len(train)\n",
    "end = len(train)+len(test)-1"
   ]
  },
  {
   "cell_type": "code",
   "execution_count": 25,
   "id": "5a27f729",
   "metadata": {},
   "outputs": [
    {
     "data": {
      "text/plain": [
       "1745"
      ]
     },
     "execution_count": 25,
     "metadata": {},
     "output_type": "execute_result"
    }
   ],
   "source": [
    "start"
   ]
  },
  {
   "cell_type": "code",
   "execution_count": 26,
   "id": "08f896ba",
   "metadata": {},
   "outputs": [
    {
     "data": {
      "text/plain": [
       "1774"
      ]
     },
     "execution_count": 26,
     "metadata": {},
     "output_type": "execute_result"
    }
   ],
   "source": [
    "end"
   ]
  },
  {
   "cell_type": "code",
   "execution_count": 27,
   "id": "cb0913f9",
   "metadata": {},
   "outputs": [],
   "source": [
    "prediction = model.predict(start=start, end = end , typ = \"levels\")"
   ]
  },
  {
   "cell_type": "code",
   "execution_count": 28,
   "id": "91386f8e",
   "metadata": {},
   "outputs": [
    {
     "data": {
      "text/plain": [
       "1745    47.702999\n",
       "1746    46.775936\n",
       "1747    46.265851\n",
       "1748    46.013309\n",
       "1749    45.959690\n",
       "1750    45.968811\n",
       "1751    45.977797\n",
       "1752    45.986649\n",
       "1753    45.995369\n",
       "1754    46.003960\n",
       "1755    46.012423\n",
       "1756    46.020760\n",
       "1757    46.028973\n",
       "1758    46.037064\n",
       "1759    46.045034\n",
       "1760    46.052886\n",
       "1761    46.060622\n",
       "1762    46.068242\n",
       "1763    46.075749\n",
       "1764    46.083144\n",
       "1765    46.090429\n",
       "1766    46.097606\n",
       "1767    46.104676\n",
       "1768    46.111641\n",
       "1769    46.118503\n",
       "1770    46.125262\n",
       "1771    46.131921\n",
       "1772    46.138481\n",
       "1773    46.144944\n",
       "1774    46.151310\n",
       "Name: predicted_mean, dtype: float64"
      ]
     },
     "execution_count": 28,
     "metadata": {},
     "output_type": "execute_result"
    }
   ],
   "source": [
    "prediction"
   ]
  },
  {
   "cell_type": "markdown",
   "id": "f3662870",
   "metadata": {},
   "source": [
    "For plotting purpose, we need to make dates as index"
   ]
  },
  {
   "cell_type": "code",
   "execution_count": 29,
   "id": "979da666",
   "metadata": {},
   "outputs": [],
   "source": [
    "prediction.index = data.index[start:end+1]"
   ]
  },
  {
   "cell_type": "code",
   "execution_count": 30,
   "id": "5184657d",
   "metadata": {},
   "outputs": [
    {
     "data": {
      "text/plain": [
       "DATE\n",
       "2018-11-28    47.702999\n",
       "2018-11-29    46.775936\n",
       "2018-12-01    46.265851\n",
       "2018-12-02    46.013309\n",
       "2018-12-03    45.959690\n",
       "2018-12-04    45.968811\n",
       "2018-12-05    45.977797\n",
       "2018-12-06    45.986649\n",
       "2018-12-07    45.995369\n",
       "2018-12-08    46.003960\n",
       "2018-12-09    46.012423\n",
       "2018-12-10    46.020760\n",
       "2018-12-11    46.028973\n",
       "2018-12-12    46.037064\n",
       "2018-12-14    46.045034\n",
       "2018-12-15    46.052886\n",
       "2018-12-17    46.060622\n",
       "2018-12-18    46.068242\n",
       "2018-12-19    46.075749\n",
       "2018-12-20    46.083144\n",
       "2018-12-21    46.090429\n",
       "2018-12-22    46.097606\n",
       "2018-12-23    46.104676\n",
       "2018-12-24    46.111641\n",
       "2018-12-25    46.118503\n",
       "2018-12-26    46.125262\n",
       "2018-12-27    46.131921\n",
       "2018-12-28    46.138481\n",
       "2018-12-29    46.144944\n",
       "2018-12-30    46.151310\n",
       "Name: predicted_mean, dtype: float64"
      ]
     },
     "execution_count": 30,
     "metadata": {},
     "output_type": "execute_result"
    }
   ],
   "source": [
    "prediction"
   ]
  },
  {
   "cell_type": "markdown",
   "id": "b77a834e",
   "metadata": {},
   "source": [
    "#### Plotting the result"
   ]
  },
  {
   "cell_type": "code",
   "execution_count": 31,
   "id": "0926f767",
   "metadata": {},
   "outputs": [
    {
     "data": {
      "image/png": "[encoded data removed]",
      "text/plain": [
       "<Figure size 1600x500 with 1 Axes>"
      ]
     },
     "metadata": {},
     "output_type": "display_data"
    }
   ],
   "source": [
    "plt.figure(figsize=(16,5))\n",
    "plt.plot(prediction)\n",
    "plt.plot(test)\n",
    "plt.legend(['prediction','test'])\n",
    "plt.show()"
   ]
  },
  {
   "cell_type": "code",
   "execution_count": 32,
   "id": "0927218d",
   "metadata": {},
   "outputs": [],
   "source": [
    "mse = mean_squared_error(prediction,test.AvgTemp)"
   ]
  },
  {
   "cell_type": "code",
   "execution_count": 33,
   "id": "b4a4001f",
   "metadata": {},
   "outputs": [],
   "source": [
    "rmse = np.sqrt(mse)"
   ]
  },
  {
   "cell_type": "code",
   "execution_count": 34,
   "id": "476871f4",
   "metadata": {},
   "outputs": [
    {
     "data": {
      "text/plain": [
       "3.0488196456481482"
      ]
     },
     "execution_count": 34,
     "metadata": {},
     "output_type": "execute_result"
    }
   ],
   "source": [
    "rmse"
   ]
  },
  {
   "cell_type": "markdown",
   "id": "fa29a759",
   "metadata": {},
   "source": [
    "We can see that model is good"
   ]
  },
  {
   "cell_type": "markdown",
   "id": "440505ab",
   "metadata": {},
   "source": [
    "#### Re training the model on the entire dataset"
   ]
  },
  {
   "cell_type": "code",
   "execution_count": 37,
   "id": "191943aa",
   "metadata": {},
   "outputs": [],
   "source": [
    "model_02 = sm.tsa.arima.ARIMA(data.AvgTemp, order=(1,0,5))"
   ]
  },
  {
   "cell_type": "code",
   "execution_count": 38,
   "id": "f92eafee",
   "metadata": {},
   "outputs": [],
   "source": [
    "model_02 = model_02.fit()"
   ]
  },
  {
   "cell_type": "code",
   "execution_count": 39,
   "id": "f5bc5ec3",
   "metadata": {},
   "outputs": [
    {
     "data": {
      "text/html": [
       "<div>\n",
       "<style scoped>\n",
       "    .dataframe tbody tr th:only-of-type {\n",
       "        vertical-align: middle;\n",
       "    }\n",
       "\n",
       "    .dataframe tbody tr th {\n",
       "        vertical-align: top;\n",
       "    }\n",
       "\n",
       "    .dataframe thead th {\n",
       "        text-align: right;\n",
       "    }\n",
       "</style>\n",
       "<table border=\"1\" class=\"dataframe\">\n",
       "  <thead>\n",
       "    <tr style=\"text-align: right;\">\n",
       "      <th></th>\n",
       "      <th>AvgTemp</th>\n",
       "    </tr>\n",
       "    <tr>\n",
       "      <th>DATE</th>\n",
       "      <th></th>\n",
       "    </tr>\n",
       "  </thead>\n",
       "  <tbody>\n",
       "    <tr>\n",
       "      <th>2018-12-26</th>\n",
       "      <td>40.0</td>\n",
       "    </tr>\n",
       "    <tr>\n",
       "      <th>2018-12-27</th>\n",
       "      <td>39.0</td>\n",
       "    </tr>\n",
       "    <tr>\n",
       "      <th>2018-12-28</th>\n",
       "      <td>40.0</td>\n",
       "    </tr>\n",
       "    <tr>\n",
       "      <th>2018-12-29</th>\n",
       "      <td>42.0</td>\n",
       "    </tr>\n",
       "    <tr>\n",
       "      <th>2018-12-30</th>\n",
       "      <td>46.0</td>\n",
       "    </tr>\n",
       "  </tbody>\n",
       "</table>\n",
       "</div>"
      ],
      "text/plain": [
       "            AvgTemp\n",
       "DATE               \n",
       "2018-12-26     40.0\n",
       "2018-12-27     39.0\n",
       "2018-12-28     40.0\n",
       "2018-12-29     42.0\n",
       "2018-12-30     46.0"
      ]
     },
     "execution_count": 39,
     "metadata": {},
     "output_type": "execute_result"
    }
   ],
   "source": [
    "data.tail()"
   ]
  },
  {
   "cell_type": "markdown",
   "id": "ed26287e",
   "metadata": {},
   "source": [
    "#### Predicting future dates after 2018-12-30\n",
    "\n",
    "#### Making future date indices"
   ]
  },
  {
   "cell_type": "code",
   "execution_count": 42,
   "id": "e872ffcb",
   "metadata": {},
   "outputs": [],
   "source": [
    "index_future_dates = pd.date_range(start=\"2018-12-30\", end = \"2019-01-29\")"
   ]
  },
  {
   "cell_type": "code",
   "execution_count": 43,
   "id": "24bf7e7c",
   "metadata": {},
   "outputs": [
    {
     "data": {
      "text/plain": [
       "DatetimeIndex(['2018-12-30', '2018-12-31', '2019-01-01', '2019-01-02',\n",
       "               '2019-01-03', '2019-01-04', '2019-01-05', '2019-01-06',\n",
       "               '2019-01-07', '2019-01-08', '2019-01-09', '2019-01-10',\n",
       "               '2019-01-11', '2019-01-12', '2019-01-13', '2019-01-14',\n",
       "               '2019-01-15', '2019-01-16', '2019-01-17', '2019-01-18',\n",
       "               '2019-01-19', '2019-01-20', '2019-01-21', '2019-01-22',\n",
       "               '2019-01-23', '2019-01-24', '2019-01-25', '2019-01-26',\n",
       "               '2019-01-27', '2019-01-28', '2019-01-29'],\n",
       "              dtype='datetime64[ns]', freq='D')"
      ]
     },
     "execution_count": 43,
     "metadata": {},
     "output_type": "execute_result"
    }
   ],
   "source": [
    "index_future_dates"
   ]
  },
  {
   "cell_type": "code",
   "execution_count": 44,
   "id": "f912f096",
   "metadata": {},
   "outputs": [],
   "source": [
    "prediction_01 = model_02.predict(start = len(data),end = len(data)+30,typ = 'levels')"
   ]
  },
  {
   "cell_type": "code",
   "execution_count": 45,
   "id": "be397db0",
   "metadata": {},
   "outputs": [
    {
     "data": {
      "text/plain": [
       "1775    46.377190\n",
       "1776    46.016326\n",
       "1777    45.501740\n",
       "1778    45.163521\n",
       "1779    45.045616\n",
       "1780    45.066617\n",
       "1781    45.087315\n",
       "1782    45.107717\n",
       "1783    45.127825\n",
       "1784    45.147644\n",
       "1785    45.167179\n",
       "1786    45.186433\n",
       "1787    45.205410\n",
       "1788    45.224115\n",
       "1789    45.242551\n",
       "1790    45.260722\n",
       "1791    45.278632\n",
       "1792    45.296284\n",
       "1793    45.313683\n",
       "1794    45.330832\n",
       "1795    45.347735\n",
       "1796    45.364395\n",
       "1797    45.380815\n",
       "1798    45.397000\n",
       "1799    45.412952\n",
       "1800    45.428675\n",
       "1801    45.444171\n",
       "1802    45.459446\n",
       "1803    45.474501\n",
       "1804    45.489339\n",
       "1805    45.503964\n",
       "Name: predicted_mean, dtype: float64"
      ]
     },
     "execution_count": 45,
     "metadata": {},
     "output_type": "execute_result"
    }
   ],
   "source": [
    "prediction_01"
   ]
  },
  {
   "cell_type": "code",
   "execution_count": 46,
   "id": "cc965c11",
   "metadata": {},
   "outputs": [],
   "source": [
    "prediction_01.index = index_future_dates"
   ]
  },
  {
   "cell_type": "code",
   "execution_count": 47,
   "id": "8a8e3a13",
   "metadata": {},
   "outputs": [
    {
     "data": {
      "text/plain": [
       "2018-12-30    46.377190\n",
       "2018-12-31    46.016326\n",
       "2019-01-01    45.501740\n",
       "2019-01-02    45.163521\n",
       "2019-01-03    45.045616\n",
       "2019-01-04    45.066617\n",
       "2019-01-05    45.087315\n",
       "2019-01-06    45.107717\n",
       "2019-01-07    45.127825\n",
       "2019-01-08    45.147644\n",
       "2019-01-09    45.167179\n",
       "2019-01-10    45.186433\n",
       "2019-01-11    45.205410\n",
       "2019-01-12    45.224115\n",
       "2019-01-13    45.242551\n",
       "2019-01-14    45.260722\n",
       "2019-01-15    45.278632\n",
       "2019-01-16    45.296284\n",
       "2019-01-17    45.313683\n",
       "2019-01-18    45.330832\n",
       "2019-01-19    45.347735\n",
       "2019-01-20    45.364395\n",
       "2019-01-21    45.380815\n",
       "2019-01-22    45.397000\n",
       "2019-01-23    45.412952\n",
       "2019-01-24    45.428675\n",
       "2019-01-25    45.444171\n",
       "2019-01-26    45.459446\n",
       "2019-01-27    45.474501\n",
       "2019-01-28    45.489339\n",
       "2019-01-29    45.503964\n",
       "Freq: D, Name: predicted_mean, dtype: float64"
      ]
     },
     "execution_count": 47,
     "metadata": {},
     "output_type": "execute_result"
    }
   ],
   "source": [
    "prediction_01"
   ]
  },
  {
   "cell_type": "code",
   "execution_count": 48,
   "id": "212b4516",
   "metadata": {},
   "outputs": [
    {
     "data": {
      "image/png": "[encoded data removed]",
      "text/plain": [
       "<Figure size 1200x600 with 1 Axes>"
      ]
     },
     "metadata": {},
     "output_type": "display_data"
    }
   ],
   "source": [
    "plt.figure(figsize=(12,6))\n",
    "plt.plot(prediction_01)\n",
    "plt.show()"
   ]
  },
  {
   "cell_type": "code",
   "execution_count": null,
   "id": "3cd24585",
   "metadata": {},
   "outputs": [],
   "source": []
  }
 ],
 "metadata": {
  "kernelspec": {
   "display_name": "Python 3 (ipykernel)",
   "language": "python",
   "name": "python3"
  },
  "language_info": {
   "codemirror_mode": {
    "name": "ipython",
    "version": 3
   },
   "file_extension": ".py",
   "mimetype": "text/x-python",
   "name": "python",
   "nbconvert_exporter": "python",
   "pygments_lexer": "ipython3",
   "version": "3.9.13"
  }
 },
 "nbformat": 4,
 "nbformat_minor": 5
}
